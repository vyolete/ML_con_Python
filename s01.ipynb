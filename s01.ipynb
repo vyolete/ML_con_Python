{
  "nbformat": 4,
  "nbformat_minor": 0,
  "metadata": {
    "colab": {
      "name": "s01.ipynb",
      "provenance": [],
      "collapsed_sections": [],
      "toc_visible": true,
      "include_colab_link": true
    },
    "kernelspec": {
      "name": "python3",
      "display_name": "Python 3"
    },
    "accelerator": "GPU"
  },
  "cells": [
    {
      "cell_type": "markdown",
      "metadata": {
        "id": "view-in-github",
        "colab_type": "text"
      },
      "source": [
        "<a href=\"https://colab.research.google.com/github/vyolete/ML_con_Python/blob/master/s01.ipynb\" target=\"_parent\"><img src=\"https://colab.research.google.com/assets/colab-badge.svg\" alt=\"Open In Colab\"/></a>"
      ]
    },
    {
      "cell_type": "markdown",
      "metadata": {
        "id": "8Eqn3RtteZei",
        "colab_type": "text"
      },
      "source": [
        "<a href=\"https://imgbb.com/\"><img src=\"https://i.ibb.co/nmJTj3J/mjyepespthon.png\" alt=\"mjyepespthon\" border=\"0\" /></a>\n",
        "\n",
        "<h1> Machine Learning con Python</h1>\n",
        "\n",
        "\n"
      ]
    },
    {
      "cell_type": "markdown",
      "metadata": {
        "id": "KvGkmbJKmJgO",
        "colab_type": "text"
      },
      "source": [
        "<p><a name=\"contents\"></a></p>\n",
        "\n",
        "# Contenido Sesión 1\n",
        "\n",
        "- <a href=\"#colabIntro\">1. Introducción al Colaboratory de Google</a><br>\n",
        "- <a href=\"#pythonIntro\">2. Introducción a Python</a><br>\n",
        "\n"
      ]
    },
    {
      "cell_type": "markdown",
      "metadata": {
        "id": "fwCSPQiBuLQH",
        "colab_type": "text"
      },
      "source": [
        "<p><a name=\"colabIntro\"></a></p>\n",
        "\n",
        "# 1) Introducción a Google Colaboratory\n",
        "\n",
        "[[Contenidos]](#contents)\n",
        "\n",
        "Este documento es un [Notebook de Jupyter](https://jupyter.org/),  se encuentra almacenado en el Colaboratory de Google, por lo tanto está en nube. Es una página dinámica, con un ambiente interactivo, que no requiere ninguna configuracion, permitiendo ejecutar scrips en Python y otros lenguajes.\n",
        "\n",
        "En el siguiente ejemplo se muestra una **celda de código** con un pequeño script de Python que calcula un valor, lo almacena en una variable y lo imprime en pantalla:"
      ]
    },
    {
      "cell_type": "code",
      "metadata": {
        "id": "xlIqRThkfinx",
        "colab_type": "code",
        "colab": {
          "base_uri": "https://localhost:8080/",
          "height": 35
        },
        "outputId": "6ffe3767-b9ce-4ce1-d993-22fe9c1bccee"
      },
      "source": [
        "# Ejemplo que, realiza el cálculo del número de segundos en un año, se almacena dicho cálculo en la variable secs_x_year y lo imprime en pantalla\n",
        "\n",
        "secs_x_year=365*24*3600\n",
        "\n",
        "print(secs_x_year)"
      ],
      "execution_count": 1,
      "outputs": [
        {
          "output_type": "stream",
          "text": [
            "31536000\n"
          ],
          "name": "stdout"
        }
      ]
    },
    {
      "cell_type": "markdown",
      "metadata": {
        "id": "F5cfOYAGg9XF",
        "colab_type": "text"
      },
      "source": [
        "la ejecución del código anterior, se realiza haciendo click en la celda, y se debe hacer click el botón \"play\" a la izquierda de la celda; o se puede utilizar el comando de teclado \"Shift/Ctrl+Enter\".\n",
        "\n",
        "las variables se almacenan de forma global, de tal manera que se puede usar y modificar en celdas diferentes. En los siguientes ejemplos se muestran modificaciones ejecutadas sobre la variable secs_x_year"
      ]
    },
    {
      "cell_type": "code",
      "metadata": {
        "id": "3ZCDRslqkkev",
        "colab_type": "code",
        "colab": {
          "base_uri": "https://localhost:8080/",
          "height": 52
        },
        "outputId": "4917ccee-d880-41eb-be0c-44aafbb81845"
      },
      "source": [
        "print(\"Valor de la variable inicial\",secs_x_year)\n",
        "\n",
        "#Modificación 1 de la variable sec_per_year\n",
        "\n",
        "secs_x_year=secs_x_year/2;\n",
        "\n",
        "print(\"Valor de la variable modificado\", secs_x_year)"
      ],
      "execution_count": 3,
      "outputs": [
        {
          "output_type": "stream",
          "text": [
            "Valor de la variable inicial 31536000\n",
            "Valor de la variable modificado 15768000.0\n"
          ],
          "name": "stdout"
        }
      ]
    },
    {
      "cell_type": "markdown",
      "metadata": {
        "id": "e0Y4laGBknjC",
        "colab_type": "text"
      },
      "source": [
        "# Ejecutar primer programa\n",
        "\n",
        "\n",
        "Para Imprimir por pantalla, se utiliza la función \"print\", de la siguiente forma:\n",
        "\n",
        "print (\"Hola Carlos\")\n",
        "\n",
        "Para ejecutar este código, amos clic en \"Code\", anexamos una nueva celda y copiamos el código."
      ]
    },
    {
      "cell_type": "markdown",
      "metadata": {
        "id": "D4I93i8Ueg5j",
        "colab_type": "text"
      },
      "source": [
        "## Jupyter Notebook\n",
        "\n",
        "*Jupyter*, es un entorno básico que permite desarrollar código en Python e integrar de forma dinámica documentos de texto, expresiones matemáticas, gráficas o imagenes.\n",
        "\n",
        "\n",
        "*Jupyter*, permite dividir hasta 5 sessiones el documento anteponendo el simbolo **#** según el siguiente orden:\n",
        "\n",
        "# Título 1\n",
        "\n",
        "## Título 2\n",
        "\n",
        "### Título 3\n",
        "\n",
        "#### Título 4\n",
        "\n",
        "#### Título 5\n",
        "\n",
        "\n",
        "## Énfasis ( Cursiva y negrita)\n",
        "\n",
        "*Jupyter*, permite seleccionar el texto en *cursiva* y/o en **negrita**, utilizando la siguiente sintáxis:\n",
        "\n",
        "\n",
        "*cursiva* ó _cursiva_\n",
        "\n",
        "**negrita** ó __negrita__\n",
        "\n",
        "***cursiva y negrita*** ó ___cursiva y negrita___ \n",
        "\n",
        "\n",
        "## Citas \n",
        "\n",
        "Se utiliza el símbolo mayor que (>) al comiendo del texto\n",
        "\n",
        "> Podemos saber poco del futuro, pero lo suficiente para darnos cuenta de que hay mucho que hacer.  — Alan Turing\n",
        "\n",
        "\n",
        "## Latex\n",
        "\n",
        "*Jupyter*, permite escribir código en *LATEX* el cual facilita la escritura de expresiones matemáticas, siempre se debe tener presente que el tipo de celda debe estar en \"markdown\"\n",
        "\n",
        "Se antepone y se finaliza con dos simbolos $$, para que *Python* entienda que el código está escrito en **Latex** \n",
        "\n",
        "$$\\alpha$$\n",
        "\n",
        "$$x_i=\\sqrt[n]{\\frac{a_i}{b_i}}$$\n",
        "\n",
        "$$\\iint \\Phi(x, y)dxdy$$\n",
        "\n",
        "\n",
        "https://www.latex-project.org/\n",
        "\n"
      ]
    },
    {
      "cell_type": "markdown",
      "metadata": {
        "id": "yotKpVH2sWGL",
        "colab_type": "text"
      },
      "source": [
        "## Más recursos\n",
        "\n",
        "Los siguientes links te ayudarán ampliar los conocimientos de uso y manejo de Pyhton\n",
        "\n",
        "### Trabajando con Notebooks \n",
        "- [Overview of Colaboratory](/notebooks/basic_features_overview.ipynb)\n",
        "- [Guide to Markdown](/notebooks/markdown_guide.ipynb)\n",
        "- [Importing libraries and installing dependencies](/notebooks/snippets/importing_libraries.ipynb)\n",
        "- [Saving and loading notebooks in GitHub](https://colab.research.google.com/github/googlecolab/colabtools/blob/master/notebooks/colab-github-demo.ipynb)\n",
        "- [Interactive forms](/notebooks/forms.ipynb)\n",
        "- [Interactive widgets](/notebooks/widgets.ipynb)\n",
        "\n",
        "### Trabajando con Datos\n",
        "- [Loading data: Drive, Sheets, and Google Cloud Storage](/notebooks/io.ipynb) \n",
        "- [Charts: visualizing data](/notebooks/charts.ipynb)\n",
        "- [Getting started with BigQuery](/notebooks/bigquery.ipynb)\n",
        "\n"
      ]
    },
    {
      "cell_type": "markdown",
      "metadata": {
        "id": "PT5cUO0od2BT",
        "colab_type": "text"
      },
      "source": [
        "<p><a name=\"pythonIntro\"></a></p>\n",
        "\n",
        "# 2) Introducción a Python\n",
        "\n",
        "[[Contenidos]](#contents)\n",
        "\n",
        "El objetivo de esta sección es  suministrar al Alumno una breve introducción al lenguaje Python, y ayudar a familiarizarse con dicho lenguaje."
      ]
    },
    {
      "cell_type": "markdown",
      "metadata": {
        "id": "cwM2hsafqGeb",
        "colab_type": "text"
      },
      "source": [
        "<p><a name=\"sections\"></a></p>\n",
        "\n",
        "#Secciones\n",
        "\n",
        "- <a href=\"#mods\">2.1. Módulos</a><br>\n",
        "- <a href=\"#ayuda\">2.2. Ayudas y descripciones</a><br>\n",
        "- <a href=\"#vars\">2.3. Variables y tipos</a><br>\n",
        " - <a href=\"#syms\">2.3.1. Nombres de variables</a><br>\n",
        "  - <a href=\"#asign\">2.3.2. Asignación</a><br>\n",
        "  - <a href=\"#ftypes\">2.3.3. Tipos fundamentales</a><br>\n",
        "- <a href=\"#ops&comps\">2.4. Operadores y comparaciones</a><br>\n",
        " - <a href=\"#mscut\">2.4.1. Atajos de operaciones matemáticas y asignaciones</a><br>\n",
        "- <a href=\"#sltd\">2.5. Strings, Listas y diccionarios</a><br>\n",
        " - <a href=\"#strings\">2.5.1. Strings</a><br>\n",
        " - <a href=\"#alist\">2.5.2. List</a><br>\n",
        " - <a href=\"#tuples\">2.5.3. Tuplas</a><br>\n",
        " - <a href=\"#diccionarios\">2.5.4. Diccionarios</a><br>\n",
        "- <a href=\"#indent\">2.6. Intentación</a><br>\n",
        "- <a href=\"#controlFlow\">2.7. Control Flow</a><br>\n",
        " - <a href=\"#cond\">2.7.1. Sentencias condicionales: if, elif, else </a><br>\n",
        "- <a href=\"#iter\">2.8. Ciclos lógicos </a><br>\n",
        " - <a href=\"#cicl\">2.8.1 Ciclos for y while </a><br>\n",
        " - <a href=\"#contr\">2.8.2 Sentencias de control de bucles</a><br>\n",
        "- <a href=\"#func\">2.9. Funciones y clases </a><br>\n",
        " - <a href=\"#funci\">2.9.1. Funciones</a><br>\n",
        " - <a href=\"#class\">2.9.2. Clases </a><br>\n",
        "- <a href=\"#inout\">2.10. Archivos de entrada y salida (I/O) </a><br>\n",
        " - <a href=\"#lecte\">2.10.1. Lectura de entrada de teclado </a><br>\n",
        " - <a href=\"#apyci\">2.10.2. Apertura y cierre de archivos</a><br>\n",
        " - <a href=\"#leyes\">2.10.3. Leer y escribir archivos </a><br>\n",
        " - <a href=\"#subar\">2.10.4. Subir y leer archivos </a><br>\n",
        " - <a href=\"#des\">2.10.5. Descargar archivos en el sistema local </a><br>\n",
        " - <a href=\"#goodr\">2.10.6. Google drive: Paquete Pydrive </a><br>\n",
        " - <a href=\"#git\">2.10.7. Github </a><br>"
      ]
    },
    {
      "cell_type": "markdown",
      "metadata": {
        "id": "4nNpYw-fkCzu",
        "colab_type": "text"
      },
      "source": [
        "<p><a name=\"mods\"></a></p>\n",
        "\n",
        "##2.1. Módulos\n",
        "\n",
        "[[Secciones]](#sections)\n",
        "\n",
        "La mayoría de las funciones en Python estan proporcionadas por los módulos. Para poder usar un módulo en un programa de Python lo primero que se debe realizar es importarlo mediante la sentencia **import**. Por ejemplo, para importa el módulo *math*, el cual contiene variedad de funciones matemáticas, se puede realizar lo siguiente:"
      ]
    },
    {
      "cell_type": "code",
      "metadata": {
        "id": "ZE_1fo7exqpJ",
        "colab_type": "code",
        "colab": {}
      },
      "source": [
        "import math"
      ],
      "execution_count": 31,
      "outputs": []
    },
    {
      "cell_type": "markdown",
      "metadata": {
        "id": "GE-bHIc13zbr",
        "colab_type": "text"
      },
      "source": [
        "El de código anterior importa todo el contenido del módulo, haciéndolo disponible para su uso posterior dentro del programa. Por ejemplo, podemos usar funciones trigonométricas para calcular un valor y almacenarlo en una variable:"
      ]
    },
    {
      "cell_type": "code",
      "metadata": {
        "id": "XitBm17m5a83",
        "colab_type": "code",
        "colab": {
          "base_uri": "https://localhost:8080/",
          "height": 35
        },
        "outputId": "9f1efe4c-f73c-489f-cc74-d124b47fd2b1"
      },
      "source": [
        "x = math.sin(2*math.pi)\n",
        "x"
      ],
      "execution_count": 32,
      "outputs": [
        {
          "output_type": "execute_result",
          "data": {
            "text/plain": [
              "-2.4492935982947064e-16"
            ]
          },
          "metadata": {
            "tags": []
          },
          "execution_count": 32
        }
      ]
    },
    {
      "cell_type": "markdown",
      "metadata": {
        "id": "HCVT2oSL5t-i",
        "colab_type": "text"
      },
      "source": [
        "En lugar de importar una librería completa, lo que puede llevar a un tiempo de ejecución o un consumo de memoria innecesario, podemos escoger importar unas cuantas funciones del módulo haciendo explicito cuales de ellas queremos importar. Por ejemplo, podemos elegir importar solo las funciones $sin$ y el valor de $\\pi$:"
      ]
    },
    {
      "cell_type": "code",
      "metadata": {
        "id": "ByqZG1n-7cRB",
        "colab_type": "code",
        "colab": {
          "base_uri": "https://localhost:8080/",
          "height": 35
        },
        "outputId": "ae5ab003-1827-4efe-b9dd-d9312a29a622"
      },
      "source": [
        "from math import sin, pi\n",
        "\n",
        "x = sin(2*pi)\n",
        "x"
      ],
      "execution_count": 33,
      "outputs": [
        {
          "output_type": "execute_result",
          "data": {
            "text/plain": [
              "-2.4492935982947064e-16"
            ]
          },
          "metadata": {
            "tags": []
          },
          "execution_count": 33
        }
      ]
    },
    {
      "cell_type": "markdown",
      "metadata": {
        "id": "3sg_iNHt710g",
        "colab_type": "text"
      },
      "source": [
        "También es posible asignarle un nombre de acceso a los módulos o símbolos que se importan mediante el uso de **as**:"
      ]
    },
    {
      "cell_type": "code",
      "metadata": {
        "id": "0iwmV-jb8yW_",
        "colab_type": "code",
        "colab": {
          "base_uri": "https://localhost:8080/",
          "height": 35
        },
        "outputId": "61db2f40-259f-4921-dae6-d02b4bed0c3d"
      },
      "source": [
        "import numpy as np\n",
        "from math import pi as num_pi\n",
        "\n",
        "#A continuación, convertímos el número pi de radianes a grados.\n",
        "\n",
        "x = np.rad2deg(num_pi)\n",
        "x"
      ],
      "execution_count": 43,
      "outputs": [
        {
          "output_type": "execute_result",
          "data": {
            "text/plain": [
              "180.0"
            ]
          },
          "metadata": {
            "tags": []
          },
          "execution_count": 43
        }
      ]
    },
    {
      "cell_type": "markdown",
      "metadata": {
        "id": "YeHNWODgmKvV",
        "colab_type": "text"
      },
      "source": [
        "<p><a name=\"ayuda\"></a></p>\n",
        "\n",
        "## 2.2. Ayudas y descripciones\n",
        "\n",
        "[[Secciones]](#sections)\n",
        "\n",
        "Mediante el uso de la función $help$, se puede obtener una descripción de casi todas las funciones. Por ejemplo, para obtener una descripción de la funcion $log$ de la libreria $math$ ejecutamos el siguiente comando:"
      ]
    },
    {
      "cell_type": "code",
      "metadata": {
        "id": "x2g4OJvvmsNv",
        "colab_type": "code",
        "colab": {
          "base_uri": "https://localhost:8080/",
          "height": 155
        },
        "outputId": "b215d150-1af0-4033-cff5-e34d5b944f8f"
      },
      "source": [
        "help(math.log)"
      ],
      "execution_count": 37,
      "outputs": [
        {
          "output_type": "stream",
          "text": [
            "Help on built-in function log in module math:\n",
            "\n",
            "log(...)\n",
            "    log(x[, base])\n",
            "    \n",
            "    Return the logarithm of x to the given base.\n",
            "    If the base not specified, returns the natural logarithm (base e) of x.\n",
            "\n"
          ],
          "name": "stdout"
        }
      ]
    },
    {
      "cell_type": "markdown",
      "metadata": {
        "id": "6qb0g9MmQqVD",
        "colab_type": "text"
      },
      "source": [
        "Tambien puede obtener la ayuda poniendo el sígno interrogante (?) al final de la expresión, así:"
      ]
    },
    {
      "cell_type": "code",
      "metadata": {
        "id": "EZL2WjpUQYd3",
        "colab_type": "code",
        "colab": {}
      },
      "source": [
        "math.log?"
      ],
      "execution_count": 38,
      "outputs": []
    },
    {
      "cell_type": "code",
      "metadata": {
        "id": "5wPJ6DN2-6C1",
        "colab_type": "code",
        "colab": {
          "base_uri": "https://localhost:8080/",
          "height": 35
        },
        "outputId": "f7da1a5f-ce18-4230-c2ea-3463c43f5a51"
      },
      "source": [
        "math.log(10)"
      ],
      "execution_count": 39,
      "outputs": [
        {
          "output_type": "execute_result",
          "data": {
            "text/plain": [
              "2.302585092994046"
            ]
          },
          "metadata": {
            "tags": []
          },
          "execution_count": 39
        }
      ]
    },
    {
      "cell_type": "code",
      "metadata": {
        "id": "zrqIE3dZ_Ck-",
        "colab_type": "code",
        "colab": {
          "base_uri": "https://localhost:8080/",
          "height": 35
        },
        "outputId": "860e4213-e9a9-4f39-8671-bf9b1f40e8c0"
      },
      "source": [
        "math.log(10,2)"
      ],
      "execution_count": 41,
      "outputs": [
        {
          "output_type": "execute_result",
          "data": {
            "text/plain": [
              "3.3219280948873626"
            ]
          },
          "metadata": {
            "tags": []
          },
          "execution_count": 41
        }
      ]
    },
    {
      "cell_type": "code",
      "metadata": {
        "id": "emjiA8dH_FY3",
        "colab_type": "code",
        "colab": {
          "base_uri": "https://localhost:8080/",
          "height": 35
        },
        "outputId": "b5061da6-2524-48d4-d6fa-31a95e463a86"
      },
      "source": [
        "math.log(10,10)"
      ],
      "execution_count": 42,
      "outputs": [
        {
          "output_type": "execute_result",
          "data": {
            "text/plain": [
              "1.0"
            ]
          },
          "metadata": {
            "tags": []
          },
          "execution_count": 42
        }
      ]
    },
    {
      "cell_type": "markdown",
      "metadata": {
        "id": "4SdWFMpF_iyw",
        "colab_type": "text"
      },
      "source": [
        "<p><a name=\"vars\"></a></p>\n",
        "\n",
        "## 2.3. Variables y tipos\n",
        "\n",
        "[[Secciones]](#sections)\n"
      ]
    },
    {
      "cell_type": "markdown",
      "metadata": {
        "id": "OmG1xsWVBh3G",
        "colab_type": "text"
      },
      "source": [
        "<p><a name=\"syms\"></a></p>\n",
        "\n",
        "### 2.3.1. Variables y tipos\n",
        "\n",
        "Los nombres de las variables en Python pueden contener caracteres alfanuméricos *a-z*, *A-Z*, *0-9* y algunos caracteres especiales como _. Los nombres de las variables deben comenzar con una letra. \n",
        "\n",
        "Por convención, los nombres de las variables comienzan con letras minúsculas, y los nombres de las Clases con letras mayúsculas.\n",
        "\n",
        "Adicionalmente, existe un número de palabras claves que no pueden ser usadas como nombres de variables. Estas palabras claves son:\n",
        "\n",
        "> `and, as, assert, break, class, continue, def, del, elif, else, except, exec, finally, for, from, global, if, import, in, is, lambda, not, or, pass, print, raise, return, try, while, with, yield`\n",
        "\n"
      ]
    },
    {
      "cell_type": "markdown",
      "metadata": {
        "id": "0tOzwypQG20y",
        "colab_type": "text"
      },
      "source": [
        "<p><a name=\"asign\"></a></p>\n",
        "\n",
        "### 2.3.2. Asignación.\n",
        "\n",
        "En Python, el operado de asignación es \"=\".  Python es un lenguaje de tipado dinámico, de tal forma que no es necesario asignarle un tipo a la variable cuando es creada.\n",
        "\n",
        "La asignación de un valor a una variable crea la variable. Por ejemplo:"
      ]
    },
    {
      "cell_type": "code",
      "metadata": {
        "id": "65XTvJMTHH5w",
        "colab_type": "code",
        "colab": {}
      },
      "source": [
        "# asignación a una variable\n",
        "\n",
        "x = 4.0"
      ],
      "execution_count": 44,
      "outputs": []
    },
    {
      "cell_type": "markdown",
      "metadata": {
        "id": "eTOeTstfKVgJ",
        "colab_type": "text"
      },
      "source": [
        "Aunque no se hizo explicito, la variable tiene un tipo asociado a ella. El tipo de la variable puede deducirse del valor que le fue asignado. También podemos consultar el tipo mediante la función `type`:"
      ]
    },
    {
      "cell_type": "code",
      "metadata": {
        "id": "QTB-K6oxKnEK",
        "colab_type": "code",
        "colab": {
          "base_uri": "https://localhost:8080/",
          "height": 35
        },
        "outputId": "bd03c9a5-a5c9-40c6-a590-0b83b1a44494"
      },
      "source": [
        "type(x)"
      ],
      "execution_count": 45,
      "outputs": [
        {
          "output_type": "execute_result",
          "data": {
            "text/plain": [
              "float"
            ]
          },
          "metadata": {
            "tags": []
          },
          "execution_count": 45
        }
      ]
    },
    {
      "cell_type": "markdown",
      "metadata": {
        "id": "wjTTfD72Ktv5",
        "colab_type": "text"
      },
      "source": [
        "Si asignamos a la variable un nuevo valor, su tipo puede cambiar:"
      ]
    },
    {
      "cell_type": "code",
      "metadata": {
        "id": "SkbRDe3hKz78",
        "colab_type": "code",
        "colab": {
          "base_uri": "https://localhost:8080/",
          "height": 35
        },
        "outputId": "29094377-67e5-4980-fa65-8c9a73803358"
      },
      "source": [
        "x = 7\n",
        "type(x)"
      ],
      "execution_count": 46,
      "outputs": [
        {
          "output_type": "execute_result",
          "data": {
            "text/plain": [
              "int"
            ]
          },
          "metadata": {
            "tags": []
          },
          "execution_count": 46
        }
      ]
    },
    {
      "cell_type": "markdown",
      "metadata": {
        "id": "VyawEMh7LDkv",
        "colab_type": "text"
      },
      "source": [
        "Si intentamos usar una variable que no ha sido definida aun, obtenemos un error `NameError` (Nótese que usarémos en los notebooks los bloques `try/except` para tratar las excepciones, de tal forma que el notebook no se interrumpa). \n",
        "\n",
        "En el siguiente código, intentaremos usar la función `print` de tal forma que si ocurre la excepción `NameError`, se imprime un mensaje en pantalla; de lo contrario, se generará un error. Más adelante, en el presente notebook, se estudiará mas detalladamente el manejo de excepciones.\n",
        "\n",
        " "
      ]
    },
    {
      "cell_type": "code",
      "metadata": {
        "id": "liKk4M_dLyfN",
        "colab_type": "code",
        "colab": {
          "base_uri": "https://localhost:8080/",
          "height": 35
        },
        "outputId": "24c35247-4928-43bd-ec95-2c7b69cb5345"
      },
      "source": [
        "try:\n",
        "    print(y)\n",
        "except(NameError) as err:\n",
        "    print(\"NameError\", err)\n",
        "else:\n",
        "    raise"
      ],
      "execution_count": 27,
      "outputs": [
        {
          "output_type": "stream",
          "text": [
            "NameError name 'y' is not defined\n"
          ],
          "name": "stdout"
        }
      ]
    },
    {
      "cell_type": "markdown",
      "metadata": {
        "id": "DrrYSJFGNlTQ",
        "colab_type": "text"
      },
      "source": [
        "<p><a name=\"ftypes\"></a></p>\n",
        "\n",
        "### 2.3.3. Tipos fundamentales.\n",
        "\n",
        "En Python, los tipos fundamentales son \n",
        "\n",
        "\n",
        "\n",
        "\n",
        "\n",
        "1.   Enteros (int).\n",
        "2.   Punto flotante (float).\n",
        "3.   Buleanos (boolean)\n",
        "4.   Cadena de caracteres (strings).\n",
        "\n",
        "Veamos algunos ejemplos de estos tipos:\n",
        "\n",
        "\n",
        "\n",
        "\n"
      ]
    },
    {
      "cell_type": "code",
      "metadata": {
        "id": "AsH88KwXOjvT",
        "colab_type": "code",
        "colab": {
          "base_uri": "https://localhost:8080/",
          "height": 35
        },
        "outputId": "285766bd-9a0d-4c83-fdfc-fd19f74b485a"
      },
      "source": [
        "# Enteros\n",
        "\n",
        "x = 1\n",
        "type(x)"
      ],
      "execution_count": 48,
      "outputs": [
        {
          "output_type": "execute_result",
          "data": {
            "text/plain": [
              "int"
            ]
          },
          "metadata": {
            "tags": []
          },
          "execution_count": 48
        }
      ]
    },
    {
      "cell_type": "code",
      "metadata": {
        "id": "d0MOnaqlOtrc",
        "colab_type": "code",
        "colab": {
          "base_uri": "https://localhost:8080/",
          "height": 35
        },
        "outputId": "211e0afb-e5dd-427d-a4f0-268bcd840408"
      },
      "source": [
        "# float \n",
        "\n",
        "x = 1.0\n",
        "type(x)"
      ],
      "execution_count": 49,
      "outputs": [
        {
          "output_type": "execute_result",
          "data": {
            "text/plain": [
              "float"
            ]
          },
          "metadata": {
            "tags": []
          },
          "execution_count": 49
        }
      ]
    },
    {
      "cell_type": "code",
      "metadata": {
        "id": "D4YDFbxpO1HX",
        "colab_type": "code",
        "colab": {
          "base_uri": "https://localhost:8080/",
          "height": 35
        },
        "outputId": "20c46ae7-7c61-493d-dbac-493d16f806bd"
      },
      "source": [
        "# boolean\n",
        "\n",
        "b1 = True\n",
        "b2 = False\n",
        "\n",
        "type(b1), type(b2)"
      ],
      "execution_count": 50,
      "outputs": [
        {
          "output_type": "execute_result",
          "data": {
            "text/plain": [
              "(bool, bool)"
            ]
          },
          "metadata": {
            "tags": []
          },
          "execution_count": 50
        }
      ]
    },
    {
      "cell_type": "code",
      "metadata": {
        "id": "tbWinpAZPDir",
        "colab_type": "code",
        "colab": {
          "base_uri": "https://localhost:8080/",
          "height": 35
        },
        "outputId": "97e438b2-977a-4479-b161-e79e09d867c3"
      },
      "source": [
        "# string\n",
        "s = \"Hola Carlos\"\n",
        "\n",
        "type(s)"
      ],
      "execution_count": 52,
      "outputs": [
        {
          "output_type": "execute_result",
          "data": {
            "text/plain": [
              "str"
            ]
          },
          "metadata": {
            "tags": []
          },
          "execution_count": 52
        }
      ]
    },
    {
      "cell_type": "markdown",
      "metadata": {
        "id": "YonkX37TQTzA",
        "colab_type": "text"
      },
      "source": [
        "<p><a name=\"ops&comps\"></a></p>\n",
        "\n",
        "## 2.4. Operadores y comparaciones.\n",
        "\n",
        "[[Secciones]](#sections)\n",
        "\n",
        "La mayoria de operadores y comparaciones poseen el significado al que, comunmente, estamos acostumbrados.\n",
        "<br>\n",
        "<br>\n",
        "*   Operadores aritméticos  `+`, `-`, `*`, `/`, `**` (potencia), `%` (módulo)\n",
        "\n",
        "\n"
      ]
    },
    {
      "cell_type": "code",
      "metadata": {
        "id": "a0aadW7WQ4MJ",
        "colab_type": "code",
        "colab": {
          "base_uri": "https://localhost:8080/",
          "height": 35
        },
        "outputId": "ca32d9b3-d55d-466e-92a9-48cd4ccd3bdd"
      },
      "source": [
        "[1 + 2, 1 - 2, 1 * 2, 5 % 3]"
      ],
      "execution_count": 53,
      "outputs": [
        {
          "output_type": "execute_result",
          "data": {
            "text/plain": [
              "[3, -1, 2, 2]"
            ]
          },
          "metadata": {
            "tags": []
          },
          "execution_count": 53
        }
      ]
    },
    {
      "cell_type": "markdown",
      "metadata": {
        "id": "5QjhwpkeAP7i",
        "colab_type": "text"
      },
      "source": [
        "En Python 2.7, el tipo de división (/) que se ejecute, depende del tipo de números involucrados. Si todos los números son enteros, la división será una divión entera, de lo contrario, será una operación en coma flotante. En Python 3, este hecho ha cambiado y las fracciones no se pierden cuando se dividen dos enteros (para las divisiones enteras se puede usar el operdor //)"
      ]
    },
    {
      "cell_type": "code",
      "metadata": {
        "id": "e5nUz2kxAHwp",
        "colab_type": "code",
        "colab": {
          "base_uri": "https://localhost:8080/",
          "height": 69
        },
        "outputId": "4444e1d9-ae50-485e-caf1-136b1279894e"
      },
      "source": [
        "# En Python 3 las siguientes dos operaciones daran el mismo resultado.\n",
        "# En Python 2, la primera de ellas será tratada como una división entera.\n",
        "\n",
        "print(1/2)\n",
        "print(1/2.0)\n",
        "print(11//6.0)"
      ],
      "execution_count": 54,
      "outputs": [
        {
          "output_type": "stream",
          "text": [
            "0.5\n",
            "0.5\n",
            "1.0\n"
          ],
          "name": "stdout"
        }
      ]
    },
    {
      "cell_type": "code",
      "metadata": {
        "id": "zJKMj5GKBmig",
        "colab_type": "code",
        "colab": {
          "base_uri": "https://localhost:8080/",
          "height": 35
        },
        "outputId": "b46fab73-8e8e-4a5f-cc2f-a7538c50fb48"
      },
      "source": [
        "# Nótese que la potenciación en Python se escribe de la forma ** y\n",
        "# no como ^\n",
        "\n",
        "2**2"
      ],
      "execution_count": 55,
      "outputs": [
        {
          "output_type": "execute_result",
          "data": {
            "text/plain": [
              "4"
            ]
          },
          "metadata": {
            "tags": []
          },
          "execution_count": 55
        }
      ]
    },
    {
      "cell_type": "markdown",
      "metadata": {
        "id": "inA_zCFhCJMQ",
        "colab_type": "text"
      },
      "source": [
        "\n",
        "*   Los buleanos están conectados o precedidos por palabras como `and`, `not`, `or`.\n",
        "\n"
      ]
    },
    {
      "cell_type": "code",
      "metadata": {
        "id": "d1L933QDB_jc",
        "colab_type": "code",
        "colab": {}
      },
      "source": [
        "True and False"
      ],
      "execution_count": null,
      "outputs": []
    },
    {
      "cell_type": "code",
      "metadata": {
        "id": "DAvHDZZPDKY0",
        "colab_type": "code",
        "colab": {
          "base_uri": "https://localhost:8080/",
          "height": 35
        },
        "outputId": "078035d2-5388-4543-c57e-614a9e6c9cb9"
      },
      "source": [
        "not False"
      ],
      "execution_count": 56,
      "outputs": [
        {
          "output_type": "execute_result",
          "data": {
            "text/plain": [
              "True"
            ]
          },
          "metadata": {
            "tags": []
          },
          "execution_count": 56
        }
      ]
    },
    {
      "cell_type": "code",
      "metadata": {
        "id": "P_uDESoGDMt2",
        "colab_type": "code",
        "colab": {
          "base_uri": "https://localhost:8080/",
          "height": 35
        },
        "outputId": "59c5533d-a132-4589-8efd-e4f1fcd83b7f"
      },
      "source": [
        "True or False"
      ],
      "execution_count": 57,
      "outputs": [
        {
          "output_type": "execute_result",
          "data": {
            "text/plain": [
              "True"
            ]
          },
          "metadata": {
            "tags": []
          },
          "execution_count": 57
        }
      ]
    },
    {
      "cell_type": "markdown",
      "metadata": {
        "id": "mXNEKXU1DWPN",
        "colab_type": "text"
      },
      "source": [
        "\n",
        "\n",
        "*   Operadores de comparación `>`, `<`, `>=`(mayor o igual), `<=` (menor o igual), `==` (igual), `!=`(no igual) y `is` (identico).\n"
      ]
    },
    {
      "cell_type": "code",
      "metadata": {
        "id": "j4eUgIFhDOYF",
        "colab_type": "code",
        "colab": {
          "base_uri": "https://localhost:8080/",
          "height": 35
        },
        "outputId": "8860c1d6-2a36-46ea-8943-1223a7616295"
      },
      "source": [
        "2>1,2<1"
      ],
      "execution_count": 58,
      "outputs": [
        {
          "output_type": "execute_result",
          "data": {
            "text/plain": [
              "(True, False)"
            ]
          },
          "metadata": {
            "tags": []
          },
          "execution_count": 58
        }
      ]
    },
    {
      "cell_type": "code",
      "metadata": {
        "id": "iBvOf56_INhS",
        "colab_type": "code",
        "colab": {
          "base_uri": "https://localhost:8080/",
          "height": 35
        },
        "outputId": "4ca6fa36-e299-443a-9a06-0765ef265178"
      },
      "source": [
        "2>3,2<2"
      ],
      "execution_count": 59,
      "outputs": [
        {
          "output_type": "execute_result",
          "data": {
            "text/plain": [
              "(False, False)"
            ]
          },
          "metadata": {
            "tags": []
          },
          "execution_count": 59
        }
      ]
    },
    {
      "cell_type": "code",
      "metadata": {
        "id": "JUtV68qaIVPz",
        "colab_type": "code",
        "colab": {
          "base_uri": "https://localhost:8080/",
          "height": 35
        },
        "outputId": "7f8e4ad4-dea1-4067-a09b-dffcc9b64e6a"
      },
      "source": [
        "4<=4,4>=4"
      ],
      "execution_count": 60,
      "outputs": [
        {
          "output_type": "execute_result",
          "data": {
            "text/plain": [
              "(True, True)"
            ]
          },
          "metadata": {
            "tags": []
          },
          "execution_count": 60
        }
      ]
    },
    {
      "cell_type": "code",
      "metadata": {
        "id": "Uf1ILoH1Idk-",
        "colab_type": "code",
        "colab": {
          "base_uri": "https://localhost:8080/",
          "height": 35
        },
        "outputId": "d7ccfa31-f35e-41a6-bfe9-ec19f0b43393"
      },
      "source": [
        "#igual a\n",
        "[3,2]==[3,2]"
      ],
      "execution_count": 62,
      "outputs": [
        {
          "output_type": "execute_result",
          "data": {
            "text/plain": [
              "True"
            ]
          },
          "metadata": {
            "tags": []
          },
          "execution_count": 62
        }
      ]
    },
    {
      "cell_type": "code",
      "metadata": {
        "id": "eeW5ikeSIm45",
        "colab_type": "code",
        "colab": {
          "base_uri": "https://localhost:8080/",
          "height": 35
        },
        "outputId": "cdd0fa02-50c9-4e4c-8e51-691ba2c0ef6e"
      },
      "source": [
        "# Not equal to\n",
        "\n",
        "2 != 5"
      ],
      "execution_count": 61,
      "outputs": [
        {
          "output_type": "execute_result",
          "data": {
            "text/plain": [
              "True"
            ]
          },
          "metadata": {
            "tags": []
          },
          "execution_count": 61
        }
      ]
    },
    {
      "cell_type": "markdown",
      "metadata": {
        "id": "NqneYrrcI0n-",
        "colab_type": "text"
      },
      "source": [
        "*   Operador buleano"
      ]
    },
    {
      "cell_type": "code",
      "metadata": {
        "id": "ZLEkrzmMIueo",
        "colab_type": "code",
        "colab": {
          "base_uri": "https://localhost:8080/",
          "height": 68
        },
        "outputId": "0f17f714-32bb-4233-8a4f-f04aa8a75888"
      },
      "source": [
        "x = True\n",
        "y = False\n",
        "\n",
        "print(not x)\n",
        "print(x and y)\n",
        "print(x or y)"
      ],
      "execution_count": null,
      "outputs": [
        {
          "output_type": "stream",
          "text": [
            "False\n",
            "False\n",
            "True\n"
          ],
          "name": "stdout"
        }
      ]
    },
    {
      "cell_type": "markdown",
      "metadata": {
        "id": "t6oenfZvJaNS",
        "colab_type": "text"
      },
      "source": [
        "*   Comparación de strings"
      ]
    },
    {
      "cell_type": "code",
      "metadata": {
        "id": "KbtlcSftJomq",
        "colab_type": "code",
        "colab": {
          "base_uri": "https://localhost:8080/",
          "height": 35
        },
        "outputId": "4ed5619c-d1e8-4830-de0c-9058727a0bc4"
      },
      "source": [
        "\"estar bien\" in \"Me gusta estar bien\" "
      ],
      "execution_count": 63,
      "outputs": [
        {
          "output_type": "execute_result",
          "data": {
            "text/plain": [
              "True"
            ]
          },
          "metadata": {
            "tags": []
          },
          "execution_count": 63
        }
      ]
    },
    {
      "cell_type": "code",
      "metadata": {
        "id": "XzA-tS3-J1NH",
        "colab_type": "code",
        "colab": {
          "base_uri": "https://localhost:8080/",
          "height": 35
        },
        "outputId": "d47f0b49-6684-4d05-83bc-3553554e28da"
      },
      "source": [
        "\"estan\" not in \"Me gusta estar bien\""
      ],
      "execution_count": 64,
      "outputs": [
        {
          "output_type": "execute_result",
          "data": {
            "text/plain": [
              "True"
            ]
          },
          "metadata": {
            "tags": []
          },
          "execution_count": 64
        }
      ]
    },
    {
      "cell_type": "markdown",
      "metadata": {
        "id": "46t9Rw_FLLcm",
        "colab_type": "text"
      },
      "source": [
        "<p><a name=\"mscut\"></a></p>\n",
        "\n",
        "### 2.4.1 Atajos de operaciones matemáticas y asignaciones.\n",
        "\n",
        "[[Secciones]](#sections)\n",
        "\n",
        "Por ejemplo, la siguiente asignación y operación:\n"
      ]
    },
    {
      "cell_type": "code",
      "metadata": {
        "id": "7NxR98r1J8aX",
        "colab_type": "code",
        "colab": {
          "base_uri": "https://localhost:8080/",
          "height": 35
        },
        "outputId": "69f37073-8b3d-49ab-ff6f-018b9453b130"
      },
      "source": [
        "a = 4\n",
        "a = a*2\n",
        "print(a)"
      ],
      "execution_count": 66,
      "outputs": [
        {
          "output_type": "stream",
          "text": [
            "8\n"
          ],
          "name": "stdout"
        }
      ]
    },
    {
      "cell_type": "markdown",
      "metadata": {
        "id": "Oh-Lc8DGMNLK",
        "colab_type": "text"
      },
      "source": [
        "el comando `a = a * 2`, puede ser abreviado como `a *= 2`. Este tipo de abreviaciones funcionan con las siguientes operaciones `+=`, `-=`, y `/=`."
      ]
    },
    {
      "cell_type": "code",
      "metadata": {
        "id": "4j9hXwTxMGUq",
        "colab_type": "code",
        "colab": {
          "base_uri": "https://localhost:8080/",
          "height": 35
        },
        "outputId": "9b460c68-589d-4edf-9026-03a438356f63"
      },
      "source": [
        "a = 3\n",
        "a *= 3\n",
        "print(a)"
      ],
      "execution_count": 68,
      "outputs": [
        {
          "output_type": "stream",
          "text": [
            "9\n"
          ],
          "name": "stdout"
        }
      ]
    },
    {
      "cell_type": "markdown",
      "metadata": {
        "id": "jUNSgddpO0g4",
        "colab_type": "text"
      },
      "source": [
        "<p><a name=\"sltd\"></a></p>\n",
        "\n",
        "## 2.5. Strings, listas y diccionarios.\n",
        "\n",
        "[[Secciones]](#sections)\n",
        "\n",
        "<p><a name=\"strings\"></a></p>\n",
        "\n",
        "###2.5.1 Strings\n",
        "\n",
        "Las variables que se usan para guardar un mensaje, palabra, etc, se conocen como `strings`"
      ]
    },
    {
      "cell_type": "code",
      "metadata": {
        "id": "qnZEZqP0NQuD",
        "colab_type": "code",
        "colab": {
          "base_uri": "https://localhost:8080/",
          "height": 35
        },
        "outputId": "9d99353e-40bc-4509-da76-4e6f873083bb"
      },
      "source": [
        "s = \"Hola mundo\"\n",
        "type(s)"
      ],
      "execution_count": 69,
      "outputs": [
        {
          "output_type": "execute_result",
          "data": {
            "text/plain": [
              "str"
            ]
          },
          "metadata": {
            "tags": []
          },
          "execution_count": 69
        }
      ]
    },
    {
      "cell_type": "code",
      "metadata": {
        "id": "yiMVrS5_Pl2e",
        "colab_type": "code",
        "colab": {
          "base_uri": "https://localhost:8080/",
          "height": 35
        },
        "outputId": "95212d1b-cd11-4799-a19d-d9da37d06915"
      },
      "source": [
        "# Longitud del string: Número de caracteres en el string\n",
        "len(s)"
      ],
      "execution_count": 70,
      "outputs": [
        {
          "output_type": "execute_result",
          "data": {
            "text/plain": [
              "10"
            ]
          },
          "metadata": {
            "tags": []
          },
          "execution_count": 70
        }
      ]
    },
    {
      "cell_type": "code",
      "metadata": {
        "id": "svUlFngQP_cs",
        "colab_type": "code",
        "colab": {
          "base_uri": "https://localhost:8080/",
          "height": 35
        },
        "outputId": "2c3d0825-bf42-4168-d2d4-7e68290c12be"
      },
      "source": [
        "# Reemplazo de un substring dentro de un string\n",
        "s2 = s.replace(\"mundo\",\"Carlos\")\n",
        "print(s2)"
      ],
      "execution_count": 72,
      "outputs": [
        {
          "output_type": "stream",
          "text": [
            "Hola Carlos\n"
          ],
          "name": "stdout"
        }
      ]
    },
    {
      "cell_type": "markdown",
      "metadata": {
        "id": "gq50T2VhQw6L",
        "colab_type": "text"
      },
      "source": [
        "Podemos indexar los caracteres en un string mediante el uso de `[]`"
      ]
    },
    {
      "cell_type": "code",
      "metadata": {
        "id": "MlrzwSMCQnay",
        "colab_type": "code",
        "colab": {
          "base_uri": "https://localhost:8080/",
          "height": 35
        },
        "outputId": "f6927a36-f19d-4c1d-8b12-224f0c692694"
      },
      "source": [
        "s[0],s[1],s[2]"
      ],
      "execution_count": 74,
      "outputs": [
        {
          "output_type": "execute_result",
          "data": {
            "text/plain": [
              "('H', 'o', 'l')"
            ]
          },
          "metadata": {
            "tags": []
          },
          "execution_count": 74
        }
      ]
    },
    {
      "cell_type": "markdown",
      "metadata": {
        "id": "cZ1VneRYRrga",
        "colab_type": "text"
      },
      "source": [
        "La indexación en Python empieza en 0.\n",
        "\n",
        "Es posible extraer parte de un string usando la sintaxis `[start:stop]`, en donde se extraen los caracteres entre la posiciones `start` y `stop`:"
      ]
    },
    {
      "cell_type": "code",
      "metadata": {
        "id": "_K2cMoanRTCt",
        "colab_type": "code",
        "colab": {
          "base_uri": "https://localhost:8080/",
          "height": 35
        },
        "outputId": "48b73f5e-e55c-48a1-8f1c-3278f74dc854"
      },
      "source": [
        "s[0:4]"
      ],
      "execution_count": 75,
      "outputs": [
        {
          "output_type": "execute_result",
          "data": {
            "application/vnd.google.colaboratory.intrinsic+json": {
              "type": "string"
            },
            "text/plain": [
              "'Hola'"
            ]
          },
          "metadata": {
            "tags": []
          },
          "execution_count": 75
        }
      ]
    },
    {
      "cell_type": "markdown",
      "metadata": {
        "id": "EkH3jEk8SV8e",
        "colab_type": "text"
      },
      "source": [
        "Si omitimos en el intervalo el `start` o el `stop`, se toma por defecto el princio y el final de string, respectivamente"
      ]
    },
    {
      "cell_type": "code",
      "metadata": {
        "id": "fBnB-XMzSP7P",
        "colab_type": "code",
        "colab": {
          "base_uri": "https://localhost:8080/",
          "height": 35
        },
        "outputId": "adebd28c-2f1c-4998-fb00-ee541d4a56b0"
      },
      "source": [
        "s[:4]"
      ],
      "execution_count": 76,
      "outputs": [
        {
          "output_type": "execute_result",
          "data": {
            "application/vnd.google.colaboratory.intrinsic+json": {
              "type": "string"
            },
            "text/plain": [
              "'Hola'"
            ]
          },
          "metadata": {
            "tags": []
          },
          "execution_count": 76
        }
      ]
    },
    {
      "cell_type": "code",
      "metadata": {
        "id": "uJvBDt9tSvL9",
        "colab_type": "code",
        "colab": {
          "base_uri": "https://localhost:8080/",
          "height": 35
        },
        "outputId": "3cb9b1bb-196c-47a9-dea3-3bab61cd254e"
      },
      "source": [
        "s[5:]"
      ],
      "execution_count": 78,
      "outputs": [
        {
          "output_type": "execute_result",
          "data": {
            "application/vnd.google.colaboratory.intrinsic+json": {
              "type": "string"
            },
            "text/plain": [
              "'mundo'"
            ]
          },
          "metadata": {
            "tags": []
          },
          "execution_count": 78
        }
      ]
    },
    {
      "cell_type": "code",
      "metadata": {
        "id": "D0Zw1I2eSzeQ",
        "colab_type": "code",
        "colab": {
          "base_uri": "https://localhost:8080/",
          "height": 35
        },
        "outputId": "a0a68c8d-2643-476d-96fc-f3c5b5192332"
      },
      "source": [
        "s[:]"
      ],
      "execution_count": 77,
      "outputs": [
        {
          "output_type": "execute_result",
          "data": {
            "application/vnd.google.colaboratory.intrinsic+json": {
              "type": "string"
            },
            "text/plain": [
              "'Hola mundo'"
            ]
          },
          "metadata": {
            "tags": []
          },
          "execution_count": 77
        }
      ]
    },
    {
      "cell_type": "markdown",
      "metadata": {
        "id": "f9pVKmtVTOQW",
        "colab_type": "text"
      },
      "source": [
        "También podemos definir el tamaño del paso usando la sintaxis `[inicio:final:paso]`(el valor por defecto del paso es 1, como se vio anteriormente)"
      ]
    },
    {
      "cell_type": "code",
      "metadata": {
        "id": "5U5QyQ0dTIZo",
        "colab_type": "code",
        "colab": {
          "base_uri": "https://localhost:8080/",
          "height": 35
        },
        "outputId": "d28aaef3-4526-4783-cd14-36f1a72bf167"
      },
      "source": [
        "s[::1]"
      ],
      "execution_count": 79,
      "outputs": [
        {
          "output_type": "execute_result",
          "data": {
            "application/vnd.google.colaboratory.intrinsic+json": {
              "type": "string"
            },
            "text/plain": [
              "'Hola mundo'"
            ]
          },
          "metadata": {
            "tags": []
          },
          "execution_count": 79
        }
      ]
    },
    {
      "cell_type": "code",
      "metadata": {
        "id": "blfs1ZIHT3AV",
        "colab_type": "code",
        "colab": {
          "base_uri": "https://localhost:8080/",
          "height": 35
        },
        "outputId": "c376f2f3-0fc1-44b4-8f56-82a704030247"
      },
      "source": [
        "s[::3]"
      ],
      "execution_count": 80,
      "outputs": [
        {
          "output_type": "execute_result",
          "data": {
            "application/vnd.google.colaboratory.intrinsic+json": {
              "type": "string"
            },
            "text/plain": [
              "'Hauo'"
            ]
          },
          "metadata": {
            "tags": []
          },
          "execution_count": 80
        }
      ]
    },
    {
      "cell_type": "markdown",
      "metadata": {
        "id": "vrZ-PKelT-LG",
        "colab_type": "text"
      },
      "source": [
        "A esta técnica se le conoce con el nombre de *slicing*."
      ]
    },
    {
      "cell_type": "markdown",
      "metadata": {
        "id": "Eaq_DVzaHwDH",
        "colab_type": "text"
      },
      "source": [
        "**Ejemplos de formatos de strings**"
      ]
    },
    {
      "cell_type": "code",
      "metadata": {
        "id": "koP6MyTtT4yY",
        "colab_type": "code",
        "colab": {
          "base_uri": "https://localhost:8080/",
          "height": 35
        },
        "outputId": "6aa5eb49-1299-4168-e686-b80e1a32b416"
      },
      "source": [
        "#Contatenación de strings con +\n",
        "print(\"Común\"+\"mente\")"
      ],
      "execution_count": 82,
      "outputs": [
        {
          "output_type": "stream",
          "text": [
            "Comúnmente\n"
          ],
          "name": "stdout"
        }
      ]
    },
    {
      "cell_type": "code",
      "metadata": {
        "id": "_nxlbRWUIUNn",
        "colab_type": "code",
        "colab": {
          "base_uri": "https://localhost:8080/",
          "height": 69
        },
        "outputId": "921aa39b-5844-4e59-9818-2205e33f9374"
      },
      "source": [
        "#La función print concatena dependiendo de como son las entradas.\n",
        "#A continuación se muestran tres resultados diferentes \n",
        "\n",
        "print(\"Común\" \"mente\")\n",
        "print(\"Común\",\"mente\")\n",
        "print((\"Común\",\"mente\"))"
      ],
      "execution_count": 83,
      "outputs": [
        {
          "output_type": "stream",
          "text": [
            "Comúnmente\n",
            "Común mente\n",
            "('Común', 'mente')\n"
          ],
          "name": "stdout"
        }
      ]
    },
    {
      "cell_type": "code",
      "metadata": {
        "id": "6QkG1qAjJeGV",
        "colab_type": "code",
        "colab": {
          "base_uri": "https://localhost:8080/",
          "height": 35
        },
        "outputId": "20ec32d4-9b1f-4e33-9cf6-ec0a546ff80d"
      },
      "source": [
        "#Por otra parte, la función print convierte todos las entradas a strings\n",
        "print(\"Común\", 1.0, False)"
      ],
      "execution_count": 84,
      "outputs": [
        {
          "output_type": "stream",
          "text": [
            "Común 1.0 False\n"
          ],
          "name": "stdout"
        }
      ]
    },
    {
      "cell_type": "code",
      "metadata": {
        "id": "8xY0Rg-nKDqx",
        "colab_type": "code",
        "colab": {
          "base_uri": "https://localhost:8080/",
          "height": 35
        },
        "outputId": "dac57b24-bc69-450f-c675-8908ee85b21e"
      },
      "source": [
        "# Podemos usar la función print en forma similar a como es usada en C\n",
        "\n",
        "print(\"value = %f\" %3.343569)"
      ],
      "execution_count": 85,
      "outputs": [
        {
          "output_type": "stream",
          "text": [
            "value = 3.343569\n"
          ],
          "name": "stdout"
        }
      ]
    },
    {
      "cell_type": "markdown",
      "metadata": {
        "id": "st1oobwsLTt0",
        "colab_type": "text"
      },
      "source": [
        "Python posee dos estilos de formatos. Un estilo más antiguo, en el que se especifica, por ejemplo, el número de cifras decimales que se imprimirá tendrá un número de tipo float denotado por %n.f y %.d, que transforma un número en un string, correspondiente a un numero decimal.  "
      ]
    },
    {
      "cell_type": "code",
      "metadata": {
        "id": "-GbWA7npKu6i",
        "colab_type": "code",
        "colab": {
          "base_uri": "https://localhost:8080/",
          "height": 35
        },
        "outputId": "3d3e4c75-ce18-4f28-9864-54d1c3b5f590"
      },
      "source": [
        "s2 = \"value1 = %.3f. value2 = %d\" % (3.1415, 1.5)\n",
        "print(s2)"
      ],
      "execution_count": 86,
      "outputs": [
        {
          "output_type": "stream",
          "text": [
            "value1 = 3.142. value2 = 1\n"
          ],
          "name": "stdout"
        }
      ]
    },
    {
      "cell_type": "markdown",
      "metadata": {
        "id": "Lipm64IAO3ws",
        "colab_type": "text"
      },
      "source": [
        "El mismo string puede ser definido usando el nuevo estilo de formato"
      ]
    },
    {
      "cell_type": "code",
      "metadata": {
        "id": "UIrPrXN-OTVg",
        "colab_type": "code",
        "colab": {
          "base_uri": "https://localhost:8080/",
          "height": 52
        },
        "outputId": "bcbe4dae-7a8e-4f84-ccea-18baea1efb40"
      },
      "source": [
        "s3 = 'value1 = {:.2f}, value2 = {}'.format(3.1415, 1.5)\n",
        "\n",
        "print(s3)\n",
        "type(s3)"
      ],
      "execution_count": 87,
      "outputs": [
        {
          "output_type": "stream",
          "text": [
            "value1 = 3.14, value2 = 1.5\n"
          ],
          "name": "stdout"
        },
        {
          "output_type": "execute_result",
          "data": {
            "text/plain": [
              "str"
            ]
          },
          "metadata": {
            "tags": []
          },
          "execution_count": 87
        }
      ]
    },
    {
      "cell_type": "code",
      "metadata": {
        "id": "uJ7Mt4tyPKdl",
        "colab_type": "code",
        "colab": {
          "base_uri": "https://localhost:8080/",
          "height": 69
        },
        "outputId": "1f44c23a-18e9-4533-d610-f106a8130ce3"
      },
      "source": [
        "print(\"Las líneas nuevas son indicadas por \\nlos espacios por \\t.\")\n",
        "\n",
        "print(r\"Las líneas nuevas son indicada por \\n y los espacios por \\t. r indica raw string\")"
      ],
      "execution_count": 93,
      "outputs": [
        {
          "output_type": "stream",
          "text": [
            "Las líneas nuevas son indicadas por \n",
            "los espacios por \t.\n",
            "Las líneas nuevas son indicada por \\n y los espacios por \\t. r indica raw string\n"
          ],
          "name": "stdout"
        }
      ]
    },
    {
      "cell_type": "code",
      "metadata": {
        "id": "MXsP0n2sQ5Bn",
        "colab_type": "code",
        "colab": {
          "base_uri": "https://localhost:8080/",
          "height": 69
        },
        "outputId": "9c418e9a-4f14-4f4f-c9db-b1b8a5a34016"
      },
      "source": [
        "s4=\"Nombre: {}\\nNúmero: {}\\nString: {}\".format(\"Python\", 2020, 4 * \"-\")\n",
        "print(s4)"
      ],
      "execution_count": 89,
      "outputs": [
        {
          "output_type": "stream",
          "text": [
            "Nombre: Python\n",
            "Número: 2020\n",
            "String: ----\n"
          ],
          "name": "stdout"
        }
      ]
    },
    {
      "cell_type": "code",
      "metadata": {
        "id": "iEY9qBl9S6Bs",
        "colab_type": "code",
        "colab": {
          "base_uri": "https://localhost:8080/",
          "height": 69
        },
        "outputId": "33ffdce2-def8-4e05-c129-30300bca5eee"
      },
      "source": [
        "strString = \"\"\"String\n",
        "con varias\n",
        "líneas de texto.\"\"\"\n",
        "print(strString)\n"
      ],
      "execution_count": 91,
      "outputs": [
        {
          "output_type": "stream",
          "text": [
            "String\n",
            "con varias\n",
            "líneas de texto.\n"
          ],
          "name": "stdout"
        }
      ]
    },
    {
      "cell_type": "code",
      "metadata": {
        "id": "zg0FDVV8TqE-",
        "colab_type": "code",
        "colab": {
          "base_uri": "https://localhost:8080/",
          "height": 35
        },
        "outputId": "2da2b47d-8069-4d68-d140-f5d14082bcc0"
      },
      "source": [
        "print(\"Esto {verbo} una {sujeto}.\".format(sujeto = \"prueba\", verbo = \"es\"))"
      ],
      "execution_count": 94,
      "outputs": [
        {
          "output_type": "stream",
          "text": [
            "Esto es una prueba.\n"
          ],
          "name": "stdout"
        }
      ]
    },
    {
      "cell_type": "markdown",
      "metadata": {
        "id": "6dW4ET9EWgVR",
        "colab_type": "text"
      },
      "source": [
        "<p><a name=\"alist\"></a></p>\n",
        "\n",
        "### 2.5.2. Listas\n",
        "\n",
        "[[Secciones]](#sections)\n",
        "\n",
        "Las listas son muy similares a los `strings` con la excepción de que los elementos de una lista pueden ser de cualquier tipo.\n",
        "\n",
        "La sintaxis en Python es de la forma `[...]`."
      ]
    },
    {
      "cell_type": "code",
      "metadata": {
        "id": "Hwhv9wrHYJzg",
        "colab_type": "code",
        "colab": {
          "base_uri": "https://localhost:8080/",
          "height": 52
        },
        "outputId": "7b9d8d85-45ac-465f-8c81-b2036ad805dd"
      },
      "source": [
        "l=[0,1,2,3]\n",
        "print(type(l))\n",
        "print(l)"
      ],
      "execution_count": 95,
      "outputs": [
        {
          "output_type": "stream",
          "text": [
            "<class 'list'>\n",
            "[0, 1, 2, 3]\n"
          ],
          "name": "stdout"
        }
      ]
    },
    {
      "cell_type": "markdown",
      "metadata": {
        "id": "3i2WvZruYaKL",
        "colab_type": "text"
      },
      "source": [
        "Podemos usar las mismas técnicas de *slicing* que usamos en los *strings"
      ]
    },
    {
      "cell_type": "code",
      "metadata": {
        "id": "9leGZY_AYWJM",
        "colab_type": "code",
        "colab": {
          "base_uri": "https://localhost:8080/",
          "height": 69
        },
        "outputId": "cba8f007-c19d-4bda-ecf8-0ae0be1c127c"
      },
      "source": [
        "print(l[:])\n",
        "print(l[0:2])\n",
        "print(l[::2])"
      ],
      "execution_count": 96,
      "outputs": [
        {
          "output_type": "stream",
          "text": [
            "[0, 1, 2, 3]\n",
            "[0, 1]\n",
            "[0, 2]\n"
          ],
          "name": "stdout"
        }
      ]
    },
    {
      "cell_type": "markdown",
      "metadata": {
        "id": "zVrXQ4WzTP28",
        "colab_type": "text"
      },
      "source": [
        "**A los usuarios de MATLAB**: Recuerden que la indexación inicia en 0\n",
        "\n"
      ]
    },
    {
      "cell_type": "code",
      "metadata": {
        "id": "vu4jcI9UZQIk",
        "colab_type": "code",
        "colab": {
          "base_uri": "https://localhost:8080/",
          "height": 35
        },
        "outputId": "f815260f-ff77-40a1-d748-0c300e7e957a"
      },
      "source": [
        "l[0]"
      ],
      "execution_count": 97,
      "outputs": [
        {
          "output_type": "execute_result",
          "data": {
            "text/plain": [
              "0"
            ]
          },
          "metadata": {
            "tags": []
          },
          "execution_count": 97
        }
      ]
    },
    {
      "cell_type": "markdown",
      "metadata": {
        "id": "_5HL_B8fUH8d",
        "colab_type": "text"
      },
      "source": [
        "Los elementos de una lista no tiene que ser todos del mismo "
      ]
    },
    {
      "cell_type": "code",
      "metadata": {
        "id": "H0S4yEMrTyyT",
        "colab_type": "code",
        "colab": {}
      },
      "source": [
        "l = [1, 'a', 1.0]"
      ],
      "execution_count": null,
      "outputs": []
    },
    {
      "cell_type": "markdown",
      "metadata": {
        "id": "FQGdlXIYYlm9",
        "colab_type": "text"
      },
      "source": [
        "Las listas en Python inhomogeneas y anidadas arbitrariamente:\n"
      ]
    },
    {
      "cell_type": "code",
      "metadata": {
        "id": "sjoWVomcYNrt",
        "colab_type": "code",
        "colab": {
          "base_uri": "https://localhost:8080/",
          "height": 35
        },
        "outputId": "59e574b2-290a-4341-cfd1-b9b07475d1f9"
      },
      "source": [
        "nested_list = [1, [2, [3, [4, [5]]]]]\n",
        "nested_list"
      ],
      "execution_count": 98,
      "outputs": [
        {
          "output_type": "execute_result",
          "data": {
            "text/plain": [
              "[1, [2, [3, [4, [5]]]]]"
            ]
          },
          "metadata": {
            "tags": []
          },
          "execution_count": 98
        }
      ]
    },
    {
      "cell_type": "markdown",
      "metadata": {
        "id": "yqiXn-TuZ744",
        "colab_type": "text"
      },
      "source": [
        "Las listas desempeñan un papel muy importante en Python y, por ejemplo, se utilizan en bucles y otras estructuras de control de flujo (que se analizan a continuación). Hay una serie de funciones convenientes para generar listas de varios tipos, por ejemplo, la función de `range` (tenga en cuenta la función `range` de Python 3 crea un generador, por lo que tiene que usar la función de lista para obtener una lista):"
      ]
    },
    {
      "cell_type": "code",
      "metadata": {
        "id": "UQ0HNFX2bpBz",
        "colab_type": "code",
        "colab": {
          "base_uri": "https://localhost:8080/",
          "height": 35
        },
        "outputId": "b91cd801-cfd5-44a5-e092-cc9067fda2a1"
      },
      "source": [
        "inicio = 1\n",
        "final = 16\n",
        "paso = 2\n",
        "\n",
        "list(range(inicio, final, paso))"
      ],
      "execution_count": 99,
      "outputs": [
        {
          "output_type": "execute_result",
          "data": {
            "text/plain": [
              "[1, 3, 5, 7, 9, 11, 13, 15]"
            ]
          },
          "metadata": {
            "tags": []
          },
          "execution_count": 99
        }
      ]
    },
    {
      "cell_type": "code",
      "metadata": {
        "id": "EOFMKZP-bzoL",
        "colab_type": "code",
        "colab": {
          "base_uri": "https://localhost:8080/",
          "height": 52
        },
        "outputId": "739ab44f-bf2a-4fa0-d1f5-7a2a4cd82a16"
      },
      "source": [
        "# Convertir un string en una lista casteando mediante list\n",
        "\n",
        "print(s)\n",
        "\n",
        "s2 = list(s)\n",
        "\n",
        "s2"
      ],
      "execution_count": 100,
      "outputs": [
        {
          "output_type": "stream",
          "text": [
            "Hola mundo\n"
          ],
          "name": "stdout"
        },
        {
          "output_type": "execute_result",
          "data": {
            "text/plain": [
              "['H', 'o', 'l', 'a', ' ', 'm', 'u', 'n', 'd', 'o']"
            ]
          },
          "metadata": {
            "tags": []
          },
          "execution_count": 100
        }
      ]
    },
    {
      "cell_type": "code",
      "metadata": {
        "id": "jYRGhv46cGAu",
        "colab_type": "code",
        "colab": {
          "base_uri": "https://localhost:8080/",
          "height": 35
        },
        "outputId": "da9fd5fc-ddf7-4f93-eba2-397e5000ae15"
      },
      "source": [
        "# Organización de la lista\n",
        "s2.sort()\n",
        "\n",
        "print(s2)"
      ],
      "execution_count": 101,
      "outputs": [
        {
          "output_type": "stream",
          "text": [
            "[' ', 'H', 'a', 'd', 'l', 'm', 'n', 'o', 'o', 'u']\n"
          ],
          "name": "stdout"
        }
      ]
    },
    {
      "cell_type": "markdown",
      "metadata": {
        "id": "ZawsQcrodRAw",
        "colab_type": "text"
      },
      "source": [
        "***Adición, inserción, modificación y remoción de elementos de una lista***\n"
      ]
    },
    {
      "cell_type": "code",
      "metadata": {
        "id": "o-s0S91Lc01M",
        "colab_type": "code",
        "colab": {
          "base_uri": "https://localhost:8080/",
          "height": 35
        },
        "outputId": "66d66cc4-da0d-4647-9ec9-8eecba13b4d5"
      },
      "source": [
        "# Creación de una lista vacía\n",
        "l = []\n",
        "\n",
        "# Adición de elementos usando `append`\n",
        "l.append(\"A\")\n",
        "l.append(\"d\")\n",
        "l.append(\"d\")\n",
        "\n",
        "print(l)"
      ],
      "execution_count": 102,
      "outputs": [
        {
          "output_type": "stream",
          "text": [
            "['A', 'd', 'd']\n"
          ],
          "name": "stdout"
        }
      ]
    },
    {
      "cell_type": "markdown",
      "metadata": {
        "id": "saJ9epsOeOxx",
        "colab_type": "text"
      },
      "source": [
        "Podemos modificar una lista al asignar nuevos valores a elementos de esa lista, es decir, las listas son *mutables*.\n",
        "\n"
      ]
    },
    {
      "cell_type": "code",
      "metadata": {
        "id": "E-fLwhIBd_HN",
        "colab_type": "code",
        "colab": {
          "base_uri": "https://localhost:8080/",
          "height": 35
        },
        "outputId": "5cabc469-cdfe-481d-e5c7-165f8a6e55d6"
      },
      "source": [
        "l[1] = \"p\"\n",
        "l[2] = \"t\"\n",
        "\n",
        "print(l)"
      ],
      "execution_count": 103,
      "outputs": [
        {
          "output_type": "stream",
          "text": [
            "['A', 'p', 't']\n"
          ],
          "name": "stdout"
        }
      ]
    },
    {
      "cell_type": "code",
      "metadata": {
        "id": "TiowOaCUey5H",
        "colab_type": "code",
        "colab": {
          "base_uri": "https://localhost:8080/",
          "height": 35
        },
        "outputId": "7ffa79dc-33f1-4d5d-9b71-5c1aa2f3bc27"
      },
      "source": [
        "l[1:3] = [\"s\", \"m\"]\n",
        "\n",
        "print(l)"
      ],
      "execution_count": 104,
      "outputs": [
        {
          "output_type": "stream",
          "text": [
            "['A', 's', 'm']\n"
          ],
          "name": "stdout"
        }
      ]
    },
    {
      "cell_type": "markdown",
      "metadata": {
        "id": "91f_Y7k-fy2E",
        "colab_type": "text"
      },
      "source": [
        "Inserción de elementos mediante `insert`.\n"
      ]
    },
    {
      "cell_type": "code",
      "metadata": {
        "id": "UBkhSj1le9Ec",
        "colab_type": "code",
        "colab": {
          "base_uri": "https://localhost:8080/",
          "height": 35
        },
        "outputId": "de732743-af52-414b-b734-73609a2da3ad"
      },
      "source": [
        "l.insert(0, \"i\")\n",
        "l.insert(1, \"n\")\n",
        "l.insert(2, \"s\")\n",
        "l.insert(3, \"e\")\n",
        "l.insert(4, \"r\")\n",
        "l.insert(5, \"t\")\n",
        "\n",
        "print(l)"
      ],
      "execution_count": 105,
      "outputs": [
        {
          "output_type": "stream",
          "text": [
            "['i', 'n', 's', 'e', 'r', 't', 'A', 's', 'm']\n"
          ],
          "name": "stdout"
        }
      ]
    },
    {
      "cell_type": "markdown",
      "metadata": {
        "id": "A0JcCM5rgL0u",
        "colab_type": "text"
      },
      "source": [
        "Remoción del primer elemento de un valor específico mendiante `remove`\n",
        "\n"
      ]
    },
    {
      "cell_type": "code",
      "metadata": {
        "id": "DDPYDJiEgA_d",
        "colab_type": "code",
        "colab": {
          "base_uri": "https://localhost:8080/",
          "height": 35
        },
        "outputId": "cfd5eaf2-4f8c-488f-9b6f-bff291bae8c0"
      },
      "source": [
        "l.remove(\"A\")\n",
        "\n",
        "print(l)"
      ],
      "execution_count": 106,
      "outputs": [
        {
          "output_type": "stream",
          "text": [
            "['i', 'n', 's', 'e', 'r', 't', 's', 'm']\n"
          ],
          "name": "stdout"
        }
      ]
    },
    {
      "cell_type": "markdown",
      "metadata": {
        "id": "D3vNk4hzgkS_",
        "colab_type": "text"
      },
      "source": [
        "Remoción de un elemento en una posición específica usando `del`\n",
        "\n"
      ]
    },
    {
      "cell_type": "code",
      "metadata": {
        "id": "cpHwJ3qrgfjW",
        "colab_type": "code",
        "colab": {
          "base_uri": "https://localhost:8080/",
          "height": 35
        },
        "outputId": "d2151ee1-d41f-4066-ad7c-e72fadd9567f"
      },
      "source": [
        "del l[7]\n",
        "del l[6]\n",
        "\n",
        "print(l)"
      ],
      "execution_count": 107,
      "outputs": [
        {
          "output_type": "stream",
          "text": [
            "['i', 'n', 's', 'e', 'r', 't']\n"
          ],
          "name": "stdout"
        }
      ]
    },
    {
      "cell_type": "markdown",
      "metadata": {
        "id": "eGNjSLD5hAZJ",
        "colab_type": "text"
      },
      "source": [
        "<p><a name=\"tuples\"></a></p>\n",
        "\n",
        "### 2.5.3. Tuplas\n",
        "\n",
        "[[Secciones]](#sections)\n",
        "\n",
        "Las tuplas son como las listas, excepto que estas no pueden ser modificadas una vez se han creado, es decir, son inmutables.\n",
        "\n",
        "En Python, las tuplas son creadas usando la sintaxis (..., ..., ...), incluso ..., ...:"
      ]
    },
    {
      "cell_type": "code",
      "metadata": {
        "id": "bgEZfnRug28T",
        "colab_type": "code",
        "colab": {
          "base_uri": "https://localhost:8080/",
          "height": 52
        },
        "outputId": "c82bcb5d-0d15-435a-d965-aa0fdbe34708"
      },
      "source": [
        "point = (10, 20)\n",
        "\n",
        "print(type(point))\n",
        "print(point)"
      ],
      "execution_count": 108,
      "outputs": [
        {
          "output_type": "stream",
          "text": [
            "<class 'tuple'>\n",
            "(10, 20)\n"
          ],
          "name": "stdout"
        }
      ]
    },
    {
      "cell_type": "markdown",
      "metadata": {
        "id": "Z5icqhC3iQ2-",
        "colab_type": "text"
      },
      "source": [
        "Si intentamos asignar un nuevo valos a un elemento de la tupla, obtenemos un error:\n",
        "\n"
      ]
    },
    {
      "cell_type": "code",
      "metadata": {
        "id": "JJiZW6yth9UR",
        "colab_type": "code",
        "colab": {
          "base_uri": "https://localhost:8080/",
          "height": 35
        },
        "outputId": "6a92ec63-ef2c-4c01-d8f0-8a6538e554c6"
      },
      "source": [
        "try:\n",
        "    point[0] = 20\n",
        "except(TypeError) as er:\n",
        "    print(\"TypeError:\", er)\n",
        "else:\n",
        "    raise\n"
      ],
      "execution_count": 109,
      "outputs": [
        {
          "output_type": "stream",
          "text": [
            "TypeError: 'tuple' object does not support item assignment\n"
          ],
          "name": "stdout"
        }
      ]
    },
    {
      "cell_type": "markdown",
      "metadata": {
        "id": "5VnTnXrfjPBJ",
        "colab_type": "text"
      },
      "source": [
        "<p><a name=\"diccionarios\"></a></p>\n",
        "\n",
        "### 2.5.4. Diccionarios\n",
        "\n",
        "[[Secciones]](#sections)\n",
        "\n",
        "Los diccionarios son también parecidos a las listas, excepto que cada elemento es una pareja clave-valor. La sintaxis en los diccionarios es de la forma {key1 : value1, ...}:\n",
        "\n"
      ]
    },
    {
      "cell_type": "code",
      "metadata": {
        "id": "Rdi35F11idbZ",
        "colab_type": "code",
        "colab": {
          "base_uri": "https://localhost:8080/",
          "height": 52
        },
        "outputId": "0db69527-12a1-4600-ac64-3fe437d7af0f"
      },
      "source": [
        "params = {\"parameter1\" : 1.0,\n",
        "          \"parameter2\" : 2.0,\n",
        "          \"parameter3\" : 3.0,}\n",
        "\n",
        "print(type(params))\n",
        "print(params)"
      ],
      "execution_count": 110,
      "outputs": [
        {
          "output_type": "stream",
          "text": [
            "<class 'dict'>\n",
            "{'parameter1': 1.0, 'parameter2': 2.0, 'parameter3': 3.0}\n"
          ],
          "name": "stdout"
        }
      ]
    },
    {
      "cell_type": "markdown",
      "metadata": {
        "id": "2PZL5oYdktwF",
        "colab_type": "text"
      },
      "source": [
        "A las entradas de los diccionarios solo puede accerderse mediante el nombre de la clave.\n"
      ]
    },
    {
      "cell_type": "code",
      "metadata": {
        "id": "93n0akRtj8nX",
        "colab_type": "code",
        "colab": {
          "base_uri": "https://localhost:8080/",
          "height": 35
        },
        "outputId": "96ae75a1-a52c-421a-e8be-ecb64c1edf55"
      },
      "source": [
        "params[\"parameter2\"]"
      ],
      "execution_count": 111,
      "outputs": [
        {
          "output_type": "execute_result",
          "data": {
            "text/plain": [
              "2.0"
            ]
          },
          "metadata": {
            "tags": []
          },
          "execution_count": 111
        }
      ]
    },
    {
      "cell_type": "code",
      "metadata": {
        "id": "OFMQ9a7SlAMO",
        "colab_type": "code",
        "colab": {
          "base_uri": "https://localhost:8080/",
          "height": 69
        },
        "outputId": "f4117d55-666f-4814-dc47-add1aef9e05a"
      },
      "source": [
        "print(\"parameter1 = \" + str(params[\"parameter1\"]))\n",
        "print(\"parameter2 = \" + str(params[\"parameter2\"]))\n",
        "print(\"parameter3 = \" + str(params[\"parameter3\"]))"
      ],
      "execution_count": 113,
      "outputs": [
        {
          "output_type": "stream",
          "text": [
            "parameter1 = 1.0\n",
            "parameter2 = 2.0\n",
            "parameter3 = 3.0\n"
          ],
          "name": "stdout"
        }
      ]
    },
    {
      "cell_type": "code",
      "metadata": {
        "id": "VKmRpnJLlKQE",
        "colab_type": "code",
        "colab": {
          "base_uri": "https://localhost:8080/",
          "height": 86
        },
        "outputId": "cc1c542a-6939-4bf2-be09-ba6aeaa53f97"
      },
      "source": [
        "params[\"parameter1\"] = \"A\"\n",
        "params[\"parameter2\"] = \"B\"\n",
        "\n",
        "# add a new entry\n",
        "params[\"parameter4\"] = \"D\"\n",
        "\n",
        "print(\"parameter1 = \" + str(params[\"parameter1\"]))\n",
        "print(\"parameter2 = \" + str(params[\"parameter2\"]))\n",
        "print(\"parameter3 = \" + str(params[\"parameter3\"]))\n",
        "print(\"parameter4 = \" + str(params[\"parameter4\"]))"
      ],
      "execution_count": 114,
      "outputs": [
        {
          "output_type": "stream",
          "text": [
            "parameter1 = A\n",
            "parameter2 = B\n",
            "parameter3 = 3.0\n",
            "parameter4 = D\n"
          ],
          "name": "stdout"
        }
      ]
    },
    {
      "cell_type": "markdown",
      "metadata": {
        "id": "5-_4HFRll82Z",
        "colab_type": "text"
      },
      "source": [
        "<p><a name=\"indent\"></a></p>\n",
        "\n",
        "## 2.6. Identación\n",
        "\n",
        "[[Secciones]](#sections)\n",
        "\n",
        "Los espacios en blanco son importantes en Python. De hecho, los espacios en blanco al comienzo de una línea son importantes. A esto se le conoce como *indentación*. Los espacios en blanco iniciales (espacios y tabuladores) al comienzo de la línea lógica se usan para determinar el nivel de indentación de la línea lógica, que a su vez se usa para determinar la agrupación de declaraciones.\n",
        "\n",
        "\n",
        "Esto significa que las declaraciones que van juntas deben tener la misma indentación, por ejemplo:"
      ]
    },
    {
      "cell_type": "code",
      "metadata": {
        "id": "0U_oasxHlVgZ",
        "colab_type": "code",
        "colab": {
          "base_uri": "https://localhost:8080/",
          "height": 51
        },
        "outputId": "8ba5826b-dba9-4f92-895b-5fba57b3c2ec"
      },
      "source": [
        "i = 5\n",
        "\n",
        "print('El valor es ', i)\n",
        "print('Repetimos, el valor es ', i)"
      ],
      "execution_count": null,
      "outputs": [
        {
          "output_type": "stream",
          "text": [
            "El valor es  5\n",
            "Repetimos, el valor es  5\n"
          ],
          "name": "stdout"
        }
      ]
    },
    {
      "cell_type": "markdown",
      "metadata": {
        "id": "GaTGvTZvoCOP",
        "colab_type": "text"
      },
      "source": [
        "Cada uno de estos conjuntos de declaraciones se llama un bloque. Veremos ejemplos de cómo los bloques son importantes más adelante. Una cosa que debes recordar es que la indentación incorrecta conlleva a `IndentationError`."
      ]
    },
    {
      "cell_type": "markdown",
      "metadata": {
        "id": "_VWsFlNkpNRl",
        "colab_type": "text"
      },
      "source": [
        "<p><a name=\"controlFlow\"></a></p>\n",
        "\n",
        "## 2.7. Control del flujo\n",
        "\n",
        "[[Secciones]](#sections)"
      ]
    },
    {
      "cell_type": "markdown",
      "metadata": {
        "id": "Hsl-lxMFtsmz",
        "colab_type": "text"
      },
      "source": [
        "<p><a name=\"cond\"></a></p>\n",
        "\n",
        "### 2.7.1. Condicionales: if, elif, else\n",
        "La sintaxis en Python para la ejecución de una condición  consiste en las palabras claves `if`, `elif` (else if), `else`:"
      ]
    },
    {
      "cell_type": "code",
      "metadata": {
        "id": "CijMmkrpnwvN",
        "colab_type": "code",
        "colab": {
          "base_uri": "https://localhost:8080/",
          "height": 35
        },
        "outputId": "4517e45d-db5e-4673-c152-2ed247732699"
      },
      "source": [
        "statement1 = False\n",
        "statement2 = False\n",
        "\n",
        "if statement1:\n",
        "    print(\"statement1 es Verdadero\")\n",
        "\n",
        "elif statement2:\n",
        "    print(\"statement2 es Verdadero\")\n",
        "\n",
        "else:\n",
        "    print(\"statement1 y statement2 son Falsos\")"
      ],
      "execution_count": 115,
      "outputs": [
        {
          "output_type": "stream",
          "text": [
            "statement1 y statement2 son Falsos\n"
          ],
          "name": "stdout"
        }
      ]
    },
    {
      "cell_type": "markdown",
      "metadata": {
        "id": "g4MYOnbjgLqz",
        "colab_type": "text"
      },
      "source": [
        "También podemos tener sentencias if anidadas"
      ]
    },
    {
      "cell_type": "code",
      "metadata": {
        "id": "wzJJZCW5gUfl",
        "colab_type": "code",
        "colab": {
          "base_uri": "https://localhost:8080/",
          "height": 52
        },
        "outputId": "8711054c-4208-45bc-db79-f4aabb02e12d"
      },
      "source": [
        "val = 100\n",
        "if val < 200:\n",
        "  print(\"El valor es menor a 200\")\n",
        "  if val == 150:\n",
        "    print(\"es 150\")\n",
        "  elif val == 100:\n",
        "    print(\"es 100\")\n",
        "  elif val == 50:\n",
        "    print(\"es 50\")\n",
        "  elif val < 50:\n",
        "    print(\"el valor es menor a 50\")\n",
        "else:\n",
        "  print(\"El valor es mayor a 200\")"
      ],
      "execution_count": 116,
      "outputs": [
        {
          "output_type": "stream",
          "text": [
            "El valor es menor a 200\n",
            "es 100\n"
          ],
          "name": "stdout"
        }
      ]
    },
    {
      "cell_type": "markdown",
      "metadata": {
        "id": "IxgWwr6vYMCM",
        "colab_type": "text"
      },
      "source": [
        "<p><a name=\"iter\"></a></p>\n",
        "\n",
        "## 2.8. Iteraciones y ciclos lógicos\n",
        "\n",
        "En general, las instrucciones se ejecutan secuencialmente: la primera instrucción en una función se ejecuta primero, seguida de la segunda, y así sucesivamente. Puede haber una situación en la que necesite ejecutar un bloque de código varias veces.  Una instrucción de bucle nos permite ejecutar una instrucción o un grupo de instrucciones varias veces."
      ]
    },
    {
      "cell_type": "markdown",
      "metadata": {
        "id": "bU9DzFzicuXY",
        "colab_type": "text"
      },
      "source": [
        "<p><a name=\"cicl\"></a></p>\n",
        "\n",
        "### 2.8.1. Ciclos for y while"
      ]
    },
    {
      "cell_type": "markdown",
      "metadata": {
        "id": "A7mB-8Ldo9O2",
        "colab_type": "text"
      },
      "source": [
        "El ciclo for ejecuta una secuencia de sentencias un número determinado de veces"
      ]
    },
    {
      "cell_type": "code",
      "metadata": {
        "id": "hw_Zr8GljpKi",
        "colab_type": "code",
        "colab": {
          "base_uri": "https://localhost:8080/",
          "height": 35
        },
        "outputId": "2b659abe-1140-4c53-f78d-6aeae1af06b9"
      },
      "source": [
        "range(5)"
      ],
      "execution_count": 117,
      "outputs": [
        {
          "output_type": "execute_result",
          "data": {
            "text/plain": [
              "range(0, 5)"
            ]
          },
          "metadata": {
            "tags": []
          },
          "execution_count": 117
        }
      ]
    },
    {
      "cell_type": "code",
      "metadata": {
        "id": "HGzBCk8mczIu",
        "colab_type": "code",
        "colab": {
          "base_uri": "https://localhost:8080/",
          "height": 104
        },
        "outputId": "bfe4066c-72fa-49b3-b94a-ecf0afe9f1b5"
      },
      "source": [
        "suma=0\n",
        "for i in range(5):\n",
        "  suma+=i\n",
        "  print('i=',i,'suma=',suma)"
      ],
      "execution_count": 118,
      "outputs": [
        {
          "output_type": "stream",
          "text": [
            "i= 0 suma= 0\n",
            "i= 1 suma= 1\n",
            "i= 2 suma= 3\n",
            "i= 3 suma= 6\n",
            "i= 4 suma= 10\n"
          ],
          "name": "stdout"
        }
      ]
    },
    {
      "cell_type": "markdown",
      "metadata": {
        "id": "0leX5evmkofI",
        "colab_type": "text"
      },
      "source": [
        "También podemos iterar sobre listas"
      ]
    },
    {
      "cell_type": "code",
      "metadata": {
        "id": "3C6vX-KOkrH8",
        "colab_type": "code",
        "colab": {
          "base_uri": "https://localhost:8080/",
          "height": 104
        },
        "outputId": "7077c3c6-d5a8-4187-a1f8-f2c18020cc98"
      },
      "source": [
        "vocales=[\"a\",\"e\",\"i\", \"o\",\"u\"]\n",
        "for i in vocales:\n",
        "  print(i)"
      ],
      "execution_count": 119,
      "outputs": [
        {
          "output_type": "stream",
          "text": [
            "a\n",
            "e\n",
            "i\n",
            "o\n",
            "u\n"
          ],
          "name": "stdout"
        }
      ]
    },
    {
      "cell_type": "code",
      "metadata": {
        "id": "zx-Pfhtgk8Ah",
        "colab_type": "code",
        "colab": {
          "base_uri": "https://localhost:8080/",
          "height": 104
        },
        "outputId": "1e48cf67-1c47-4d06-a37d-fa9400312e5c"
      },
      "source": [
        "for i in range(len(vocales)):\n",
        "  print (i,vocales[i])"
      ],
      "execution_count": 120,
      "outputs": [
        {
          "output_type": "stream",
          "text": [
            "0 a\n",
            "1 e\n",
            "2 i\n",
            "3 o\n",
            "4 u\n"
          ],
          "name": "stdout"
        }
      ]
    },
    {
      "cell_type": "markdown",
      "metadata": {
        "id": "Oxq9vHErojz2",
        "colab_type": "text"
      },
      "source": [
        "El ciclo while repite una sentencia o grupo de sentencias mientras una condición dada es TRUE. Prueba la condición antes de ejecutar el cuerpo del ciclo."
      ]
    },
    {
      "cell_type": "code",
      "metadata": {
        "id": "SiD67duwleAu",
        "colab_type": "code",
        "colab": {
          "base_uri": "https://localhost:8080/",
          "height": 86
        },
        "outputId": "a3c401e8-4842-4a8c-a60d-ec2bf2071d97"
      },
      "source": [
        "c = 4\n",
        "while c > 0:\n",
        "  print('c=',c,'se cumple la condición')\n",
        "  c-=1"
      ],
      "execution_count": 121,
      "outputs": [
        {
          "output_type": "stream",
          "text": [
            "c= 4 se cumple la condición\n",
            "c= 3 se cumple la condición\n",
            "c= 2 se cumple la condición\n",
            "c= 1 se cumple la condición\n"
          ],
          "name": "stdout"
        }
      ]
    },
    {
      "cell_type": "markdown",
      "metadata": {
        "id": "USL7zCWvpv6h",
        "colab_type": "text"
      },
      "source": [
        "Podemos tener varias condiciones"
      ]
    },
    {
      "cell_type": "code",
      "metadata": {
        "id": "Mx9taaJUp4Gk",
        "colab_type": "code",
        "colab": {
          "base_uri": "https://localhost:8080/",
          "height": 190
        },
        "outputId": "4ac60dfa-9ecc-48c6-9261-a092545a639f"
      },
      "source": [
        "c = 10\n",
        "while c > 0:\n",
        "  if c > 1 and c!=5:\n",
        "    print (\"Voy a hacerlo \"+str(c-1)+\" veces más\")\n",
        "  elif c==5:\n",
        "    print('Voy en '+str(c-1))\n",
        "  else:\n",
        "    print (\"¡Este es el último!\")\n",
        "  c -= 1 #c=c-1"
      ],
      "execution_count": 122,
      "outputs": [
        {
          "output_type": "stream",
          "text": [
            "Voy a hacerlo 9 veces más\n",
            "Voy a hacerlo 8 veces más\n",
            "Voy a hacerlo 7 veces más\n",
            "Voy a hacerlo 6 veces más\n",
            "Voy a hacerlo 5 veces más\n",
            "Voy en 4\n",
            "Voy a hacerlo 3 veces más\n",
            "Voy a hacerlo 2 veces más\n",
            "Voy a hacerlo 1 veces más\n",
            "¡Este es el último!\n"
          ],
          "name": "stdout"
        }
      ]
    },
    {
      "cell_type": "markdown",
      "metadata": {
        "id": "hOLaH_FrpXlJ",
        "colab_type": "text"
      },
      "source": [
        "Podemos usar uno o más ciclos dentro de otro. Esto lo conocemos como ciclos anidados\n"
      ]
    },
    {
      "cell_type": "code",
      "metadata": {
        "id": "cVhZf3jPpkRi",
        "colab_type": "code",
        "colab": {
          "base_uri": "https://localhost:8080/",
          "height": 190
        },
        "outputId": "a32b340c-99ed-47db-f8d4-76621064aaa8"
      },
      "source": [
        "for i in range(2):\n",
        "  for j in range(5):\n",
        "    print(\"i: %d j: %d\" %(i,j))"
      ],
      "execution_count": 123,
      "outputs": [
        {
          "output_type": "stream",
          "text": [
            "i: 0 j: 0\n",
            "i: 0 j: 1\n",
            "i: 0 j: 2\n",
            "i: 0 j: 3\n",
            "i: 0 j: 4\n",
            "i: 1 j: 0\n",
            "i: 1 j: 1\n",
            "i: 1 j: 2\n",
            "i: 1 j: 3\n",
            "i: 1 j: 4\n"
          ],
          "name": "stdout"
        }
      ]
    },
    {
      "cell_type": "markdown",
      "metadata": {
        "id": "9fPm2y08dG_4",
        "colab_type": "text"
      },
      "source": [
        "<p><a name=\"contr\"></a></p>\n",
        "\n",
        "### 2.8.2. Sentencias de control de ciclo: break y continue.\n"
      ]
    },
    {
      "cell_type": "markdown",
      "metadata": {
        "id": "RXO98upa4bFY",
        "colab_type": "text"
      },
      "source": [
        "Las sentencias de control de ciclo cambian la ejecución de su secuencia normal. Cuando la ejecución deja un ámbito, todos los objetos automáticos que se crearon en ese ámbito se destruyen."
      ]
    },
    {
      "cell_type": "markdown",
      "metadata": {
        "id": "YpKFrGYh5Rhx",
        "colab_type": "text"
      },
      "source": [
        "La sentencia de control *break* termina el ciclo actual y reanuda la ejecución en la siguiente instrucción.\n",
        "\n"
      ]
    },
    {
      "cell_type": "code",
      "metadata": {
        "id": "yKQo-97mdNJw",
        "colab_type": "code",
        "colab": {
          "base_uri": "https://localhost:8080/",
          "height": 69
        },
        "outputId": "096818cf-5c8f-4f3e-92fd-85708527bcda"
      },
      "source": [
        "for i in vocales:\n",
        "  if i==\"o\":\n",
        "    break\n",
        "  print(i)"
      ],
      "execution_count": 124,
      "outputs": [
        {
          "output_type": "stream",
          "text": [
            "a\n",
            "e\n",
            "i\n"
          ],
          "name": "stdout"
        }
      ]
    },
    {
      "cell_type": "markdown",
      "metadata": {
        "id": "GkNGlxJ46S8-",
        "colab_type": "text"
      },
      "source": [
        "La sentencia de control *continue* rechaza todas las declaraciones restantes en la iteración actual del ciclo y mueve el control de nuevo a la parte superior de este\n",
        "\n",
        "\n"
      ]
    },
    {
      "cell_type": "code",
      "metadata": {
        "id": "KxBFJyYu6qiT",
        "colab_type": "code",
        "colab": {
          "base_uri": "https://localhost:8080/",
          "height": 86
        },
        "outputId": "2a6180e0-3968-497d-b69a-3ab9222d0baf"
      },
      "source": [
        "for i in vocales:\n",
        "  if i==\"o\":\n",
        "    continue\n",
        "  print(i)"
      ],
      "execution_count": 125,
      "outputs": [
        {
          "output_type": "stream",
          "text": [
            "a\n",
            "e\n",
            "i\n",
            "u\n"
          ],
          "name": "stdout"
        }
      ]
    },
    {
      "cell_type": "markdown",
      "metadata": {
        "id": "vpfhHZd9eiOF",
        "colab_type": "text"
      },
      "source": [
        "<p><a name=\"func\"></a></p>\n",
        "\n",
        "## 2.9. Funciones y clases"
      ]
    },
    {
      "cell_type": "markdown",
      "metadata": {
        "id": "UQMFQFuy9XCo",
        "colab_type": "text"
      },
      "source": [
        "<p><a name=\"funci\"></a></p>\n",
        "\n",
        "### 2.9.1. Funciones\n",
        "\n",
        "Una función es un bloque de código organizado y reutilizable que se utiliza para realizar una única acción relacionada. Las funciones proporcionan una mejor modularidad para su aplicación y un alto grado de reutilización de código.\n",
        "\n",
        ">`def Nombre(arg1,arg2,...):`\n",
        ">> `sentencias`"
      ]
    },
    {
      "cell_type": "markdown",
      "metadata": {
        "id": "3aNX6kn2Cjuq",
        "colab_type": "text"
      },
      "source": [
        "Definamos la función exponencial $a^b$"
      ]
    },
    {
      "cell_type": "code",
      "metadata": {
        "id": "9GaLlcUceoC2",
        "colab_type": "code",
        "colab": {
          "base_uri": "https://localhost:8080/",
          "height": 35
        },
        "outputId": "1b08e3ed-c864-4cef-ca7f-5bcd81c689d9"
      },
      "source": [
        "def Exp(a,b):\n",
        "  exp = a**b\n",
        "  print(exp)\n",
        "  return\n",
        "  \n",
        "Exp(2,2)  "
      ],
      "execution_count": 126,
      "outputs": [
        {
          "output_type": "stream",
          "text": [
            "4\n"
          ],
          "name": "stdout"
        }
      ]
    },
    {
      "cell_type": "markdown",
      "metadata": {
        "id": "69ukeYx6CweR",
        "colab_type": "text"
      },
      "source": [
        "La sentencia *return* termina la función,  devolviendo opcionalmente uno o varios valores. Una declaración de retorno sin argumentos es lo mismo que devolver *none* (como en el caso anterior)"
      ]
    },
    {
      "cell_type": "code",
      "metadata": {
        "id": "cgWrwPmf-MCk",
        "colab_type": "code",
        "colab": {
          "base_uri": "https://localhost:8080/",
          "height": 52
        },
        "outputId": "04cedc84-f77c-4dbb-dd4b-9e1645d272e1"
      },
      "source": [
        "def Exp(a,b):\n",
        "  return a**b\n",
        "  \n",
        "def Exp2(a,b):\n",
        "  return a**b,a**b+1,a**b+2\n",
        "\n",
        "print(Exp(2,2),type(Exp(2,2)))\n",
        "\n",
        "print(Exp2(2,2),type(Exp2(2,2)))\n"
      ],
      "execution_count": 127,
      "outputs": [
        {
          "output_type": "stream",
          "text": [
            "4 <class 'int'>\n",
            "(4, 5, 6) <class 'tuple'>\n"
          ],
          "name": "stdout"
        }
      ]
    },
    {
      "cell_type": "markdown",
      "metadata": {
        "id": "qA5jEatkIJUU",
        "colab_type": "text"
      },
      "source": [
        "<p><a name=\"class\"></a></p>\n",
        "\n",
        "### 2.9.2 Clases\n",
        "\n",
        "Las clases proporcionan un medio de agrupar datos y \"funcionalidad\". La creación de una nueva clase crea un nuevo tipo de objeto, lo que permite crear nuevas *instancias* de ese tipo. Cada instancia de la clase puede tener sus propios atributos. Las instancias de una clase también pueden tener *métodos* (definidos por su clase) para modificar su estado.\n",
        "\n",
        ">class Name():\n",
        ">>sentencias"
      ]
    },
    {
      "cell_type": "markdown",
      "metadata": {
        "id": "-loYl6I1JaGB",
        "colab_type": "text"
      },
      "source": [
        "Los atributos son como propiedades que queremos añadir a la clase "
      ]
    },
    {
      "cell_type": "code",
      "metadata": {
        "id": "IJEykQm3JtnC",
        "colab_type": "code",
        "colab": {}
      },
      "source": [
        "class Auto():\n",
        "  marca = ''\n",
        "  color = ''"
      ],
      "execution_count": 128,
      "outputs": []
    },
    {
      "cell_type": "markdown",
      "metadata": {
        "id": "jxuP0t7xJ940",
        "colab_type": "text"
      },
      "source": [
        "Creemos un objeto de la clase Auto con algunos atributos"
      ]
    },
    {
      "cell_type": "code",
      "metadata": {
        "id": "6pPE3CZ5KBqU",
        "colab_type": "code",
        "colab": {
          "base_uri": "https://localhost:8080/",
          "height": 52
        },
        "outputId": "2a8d0b0c-5d59-4417-85aa-d883b3519ab3"
      },
      "source": [
        "mi_auto = Auto()\n",
        "mi_auto.marca = 'ferrari'\n",
        "mi_auto.color = 'rojo'\n",
        "\n",
        "print(mi_auto.marca)\n",
        "print(mi_auto.color)"
      ],
      "execution_count": 129,
      "outputs": [
        {
          "output_type": "stream",
          "text": [
            "ferrari\n",
            "rojo\n"
          ],
          "name": "stdout"
        }
      ]
    },
    {
      "cell_type": "markdown",
      "metadata": {
        "id": "YS5NKSJ4LXPb",
        "colab_type": "text"
      },
      "source": [
        "Dentro de las clases podemos definir funciones, conocidas como *métodos* "
      ]
    },
    {
      "cell_type": "code",
      "metadata": {
        "id": "bXc_GQGHKgV8",
        "colab_type": "code",
        "colab": {
          "base_uri": "https://localhost:8080/",
          "height": 52
        },
        "outputId": "b6aef4f8-7969-455f-8a49-191fde8baabe"
      },
      "source": [
        "class Persona():\n",
        "  nombre = ''\n",
        "  edad = ''\n",
        "  \n",
        "  def print_nombre(self):\n",
        "    print('nombre:',self.nombre)\n",
        "    \n",
        "  def print_edad(self):\n",
        "    print('edad:',self.edad)\n",
        "    \n",
        "carolina = Persona()\n",
        "carolina.nombre = 'carolina'\n",
        "carolina.edad = 20\n",
        "\n",
        "carolina.print_nombre()\n",
        "carolina.print_edad()"
      ],
      "execution_count": 130,
      "outputs": [
        {
          "output_type": "stream",
          "text": [
            "nombre: carolina\n",
            "edad: 20\n"
          ],
          "name": "stdout"
        }
      ]
    },
    {
      "cell_type": "markdown",
      "metadata": {
        "id": "MZJkf1TLNb2l",
        "colab_type": "text"
      },
      "source": [
        "Los métodos necesitan tener un argumento convenientemente llamado self, que se refiere al objeto del método que está siendo llamado. Podemos pasar más de un argumento si así lo deseamos"
      ]
    },
    {
      "cell_type": "code",
      "metadata": {
        "id": "zj_xJIzwMwS4",
        "colab_type": "code",
        "colab": {
          "base_uri": "https://localhost:8080/",
          "height": 52
        },
        "outputId": "15928ed7-1731-4695-c0c7-c78bf547c7b1"
      },
      "source": [
        "class Persona:\n",
        "    nombre = ''\n",
        "    edad = ''\n",
        "     \n",
        "    def print_informacion(self, nombre, edad):\n",
        "        print('nombre:',self.nombre)\n",
        "        print('edad:',self.edad)\n",
        "             \n",
        "carlos = Persona()\n",
        "carlos.nombre = 'carlos'\n",
        "carlos.edad = '30'\n",
        "carlos.print_informacion(carlos.nombre, carlos.edad)"
      ],
      "execution_count": 131,
      "outputs": [
        {
          "output_type": "stream",
          "text": [
            "nombre: carlos\n",
            "edad: 30\n"
          ],
          "name": "stdout"
        }
      ]
    },
    {
      "cell_type": "markdown",
      "metadata": {
        "id": "KOtePNB7P_5U",
        "colab_type": "text"
      },
      "source": [
        "La operación de creación de instancias crea un objeto vacío. A muchas clases les gusta crear objetos con instancias personalizadas a un estado inicial específico. Por lo tanto, una clase puede definir un método especial llamado __init __ (), como este:"
      ]
    },
    {
      "cell_type": "code",
      "metadata": {
        "id": "K7DpEV9hN-JK",
        "colab_type": "code",
        "colab": {
          "base_uri": "https://localhost:8080/",
          "height": 51
        },
        "outputId": "075d4c8c-84a9-4511-a0bf-63775b4bde59"
      },
      "source": [
        "class Person:\n",
        "  def __init__(self,n,e):\n",
        "    self.nombre = n\n",
        "    self.edad = e\n",
        "      \n",
        "mario = Person('mario','55')\n",
        "print('nombre:',mario.nombre)\n",
        "print('edad:',mario.edad)    "
      ],
      "execution_count": null,
      "outputs": [
        {
          "output_type": "stream",
          "text": [
            "nombre: mario\n",
            "edad: 55\n"
          ],
          "name": "stdout"
        }
      ]
    },
    {
      "cell_type": "markdown",
      "metadata": {
        "id": "J7ZQBUmLX-5W",
        "colab_type": "text"
      },
      "source": [
        "<p><a name=\"inout\"></a></p>\n",
        "\n",
        "## 2.10. Archivos de entrada y salida"
      ]
    },
    {
      "cell_type": "markdown",
      "metadata": {
        "id": "l77fqeASuu8M",
        "colab_type": "text"
      },
      "source": [
        "<p><a name=\"lecte\"></a></p>\n",
        "\n",
        "### 2.10.1. Lectura de entrada de teclado\n",
        "\n",
        "Python proporciona una función integrada <code>input()</code> para leer una línea de texto de la entrada estándar"
      ]
    },
    {
      "cell_type": "code",
      "metadata": {
        "id": "_BlE3ChRwLWw",
        "colab_type": "code",
        "colab": {
          "base_uri": "https://localhost:8080/",
          "height": 69
        },
        "outputId": "3983b94c-1712-4dc2-c117-4dd44a511bfc"
      },
      "source": [
        "a = input('Ingresa un número ')\n",
        "print('El número que ingresaste es:',a)\n",
        "type(a)\n"
      ],
      "execution_count": 29,
      "outputs": [
        {
          "output_type": "stream",
          "text": [
            "Ingresa un número 4\n",
            "El número que ingresaste es: 4\n"
          ],
          "name": "stdout"
        },
        {
          "output_type": "execute_result",
          "data": {
            "text/plain": [
              "str"
            ]
          },
          "metadata": {
            "tags": []
          },
          "execution_count": 29
        }
      ]
    },
    {
      "cell_type": "markdown",
      "metadata": {
        "id": "VdQ-axsMvc3j",
        "colab_type": "text"
      },
      "source": [
        "\n",
        "independientemente de lo que ingrese como entrada, la función <code>input()</code> siempre lo convierte en una cadena de caracteres. Podemos utilizar las funciones <code>int()</code> y <code>float()</code> para obtener enteros y números de punto flotante respectivamente"
      ]
    },
    {
      "cell_type": "code",
      "metadata": {
        "id": "PiGCw4Hhvjle",
        "colab_type": "code",
        "colab": {
          "base_uri": "https://localhost:8080/",
          "height": 86
        },
        "outputId": "12ec4b78-79ab-4c7c-837e-64e9201e7daa"
      },
      "source": [
        "numero_entero = int(input('Ingresa un número'))\n",
        "print(numero_entero,type(numero_entero))\n",
        "\n",
        "numero_pflotante = float(input('Ingresa un número'))\n",
        "print(numero_pflotante,type(numero_pflotante))"
      ],
      "execution_count": 30,
      "outputs": [
        {
          "output_type": "stream",
          "text": [
            "Ingresa un número4\n",
            "4 <class 'int'>\n",
            "Ingresa un número19\n",
            "19.0 <class 'float'>\n"
          ],
          "name": "stdout"
        }
      ]
    },
    {
      "cell_type": "markdown",
      "metadata": {
        "id": "ijXdq98t2MNv",
        "colab_type": "text"
      },
      "source": [
        "<p><a name=\"apyci\"></a></p>\n",
        "\n",
        "### 2.10.2. Apertura y cierre de archivos\n",
        "\n",
        "Python proporciona funciones básicas y métodos necesarios para manipular archivos de forma predeterminada. Se puede realizar la mayor parte de la manipulación de archivos utilizando un objeto tipo <code>file</code>. Antes de poder leer o escribir un archivo, debemos abrirlo con la función <code> open() </code>incorporada de Python. Para cerrarlo utilizamos la función <code>close()</code>."
      ]
    },
    {
      "cell_type": "code",
      "metadata": {
        "id": "CbZ12uaW4Caf",
        "colab_type": "code",
        "colab": {
          "base_uri": "https://localhost:8080/",
          "height": 85
        },
        "outputId": "2d58be53-c600-4f59-8d99-e24d09748e0b"
      },
      "source": [
        "fo = open(\"foo.txt\", \"w\")\n",
        "print(\"Nombre del archivo: \", fo.name)\n",
        "print('Modo con el que se abrió el archivo:',fo.mode)\n",
        "print('Cerrado:',fo.closed)\n",
        "fo.close()\n",
        "print('Cerrado:',fo.closed)"
      ],
      "execution_count": null,
      "outputs": [
        {
          "output_type": "stream",
          "text": [
            "Nombre del archivo:  foo.txt\n",
            "Modo con el que se abrió el archivo: w\n",
            "Cerrado: False\n",
            "Cerrado: True\n"
          ],
          "name": "stdout"
        }
      ]
    },
    {
      "cell_type": "markdown",
      "metadata": {
        "id": "ytfz7pN746NF",
        "colab_type": "text"
      },
      "source": [
        "Modos comunes: w (Escritura), r (Lectura), a (Añadir)"
      ]
    },
    {
      "cell_type": "markdown",
      "metadata": {
        "id": "WEzHJDo92r3N",
        "colab_type": "text"
      },
      "source": [
        "<p><a name=\"leyes\"></a></p>\n",
        "\n",
        "### 2.10.3. Leer y escribir archivos\n",
        "\n",
        "El objeto <code>file</code> proporciona un conjunto de métodos de acceso para facilitar nuestras vidas. Veríamos cómo usar los métodos <code>write()</code> y <code>read()</code> para leer y escribir archivos."
      ]
    },
    {
      "cell_type": "code",
      "metadata": {
        "id": "uBBeOHSi6ZdQ",
        "colab_type": "code",
        "colab": {
          "base_uri": "https://localhost:8080/",
          "height": 51
        },
        "outputId": "c731731c-b375-4e77-d1dc-d1b433819e7a"
      },
      "source": [
        "fo = open(\"foo.txt\", \"w\")\n",
        "fo.write( \"¡Hola \\n mundo!\")\n",
        "fo.close()\n",
        "\n",
        "!cat foo.txt"
      ],
      "execution_count": null,
      "outputs": [
        {
          "output_type": "stream",
          "text": [
            "¡Hola \n",
            " mundo!"
          ],
          "name": "stdout"
        }
      ]
    },
    {
      "cell_type": "code",
      "metadata": {
        "id": "g0XC6crT7DQ0",
        "colab_type": "code",
        "colab": {
          "base_uri": "https://localhost:8080/",
          "height": 51
        },
        "outputId": "aa1783e2-1cc1-4f71-e0a3-f3f22764944b"
      },
      "source": [
        "fo = open(\"foo.txt\", \"r\")\n",
        "\n",
        "print(fo.readline())\n",
        "\n",
        "#print(fo.read())\n",
        "\n",
        "#print(fo.read(2))\n",
        "\n",
        "fo.close()"
      ],
      "execution_count": null,
      "outputs": [
        {
          "output_type": "stream",
          "text": [
            "¡Hola \n",
            "\n"
          ],
          "name": "stdout"
        }
      ]
    },
    {
      "cell_type": "markdown",
      "metadata": {
        "id": "pikqdJs-YKu3",
        "colab_type": "text"
      },
      "source": [
        "<p><a name=\"subar\"></a></p>\n",
        "\n",
        "### 2.10.4. Subir archivos locales\n",
        "\n",
        "El método <code>files.upload</code> devolverá un diccionario de los archivos que se han subido. Al diccionario se le asignará el nombre del archivo como clave y los valores serán los datos que se han subido (los archivos permanecen en la máquina virtual por 12 horas)"
      ]
    },
    {
      "cell_type": "code",
      "metadata": {
        "id": "NTmx_P9EYDVd",
        "colab_type": "code",
        "colab": {
          "resources": {
            "http://localhost:8080/nbextensions/google.colab/files.js": {
              "data": "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",
              "ok": true,
              "headers": [
                [
                  "content-type",
                  "application/javascript"
                ]
              ],
              "status": 200,
              "status_text": ""
            }
          },
          "base_uri": "https://localhost:8080/",
          "height": 37
        },
        "outputId": "e0ebff2d-d112-4c06-b99c-1d434d592201"
      },
      "source": [
        "from google.colab import files\n",
        "\n",
        "uploaded = files.upload()"
      ],
      "execution_count": null,
      "outputs": [
        {
          "output_type": "display_data",
          "data": {
            "text/html": [
              "\n",
              "     <input type=\"file\" id=\"files-e68815d1-5cac-4fa6-aa94-7f0150b8a416\" name=\"files[]\" multiple disabled />\n",
              "     <output id=\"result-e68815d1-5cac-4fa6-aa94-7f0150b8a416\">\n",
              "      Upload widget is only available when the cell has been executed in the\n",
              "      current browser session. Please rerun this cell to enable.\n",
              "      </output>\n",
              "      <script src=\"/nbextensions/google.colab/files.js\"></script> "
            ],
            "text/plain": [
              "<IPython.core.display.HTML object>"
            ]
          },
          "metadata": {
            "tags": []
          }
        }
      ]
    },
    {
      "cell_type": "markdown",
      "metadata": {
        "id": "Izd6XV1VZC31",
        "colab_type": "text"
      },
      "source": [
        "<p><a name=\"des\"></a></p>\n",
        "\n",
        "### 2.10.5. Descargar archivos en tu sistema local \n",
        "\n",
        "El método <code>files.download</code> invocará al navegador para que descargue el archivo en tu ordenador local."
      ]
    },
    {
      "cell_type": "code",
      "metadata": {
        "id": "yrPSVqGjY-JJ",
        "colab_type": "code",
        "colab": {}
      },
      "source": [
        "from google.colab import files\n",
        "\n",
        "with open('example.txt', 'w') as f:\n",
        "  f.write('some content')\n",
        "\n",
        "files.download('example.txt')"
      ],
      "execution_count": null,
      "outputs": []
    },
    {
      "cell_type": "markdown",
      "metadata": {
        "id": "Nn1gvaOJ-TWs",
        "colab_type": "text"
      },
      "source": [
        "<p><a name=\"goodr\"></a></p>\n",
        "\n",
        "### 2.10.6. Google drive: Paquete PyDrive"
      ]
    },
    {
      "cell_type": "markdown",
      "metadata": {
        "id": "zRhwvA69E1Mk",
        "colab_type": "text"
      },
      "source": [
        "Instalamos el paquete"
      ]
    },
    {
      "cell_type": "code",
      "metadata": {
        "id": "3MqqWLOc_g95",
        "colab_type": "code",
        "colab": {
          "base_uri": "https://localhost:8080/",
          "height": 51
        },
        "outputId": "f82333cc-4bee-4aad-a2bd-fbf3ceff28f5"
      },
      "source": [
        "!pip install --upgrade --quiet PyDrive\n",
        "\n",
        "from pydrive.auth import GoogleAuth\n",
        "from pydrive.drive import GoogleDrive\n",
        "from google.colab import auth\n",
        "from oauth2client.client import GoogleCredentials"
      ],
      "execution_count": null,
      "outputs": [
        {
          "output_type": "stream",
          "text": [
            "\u001b[?25l\r\u001b[K     |▎                               | 10kB 19.9MB/s eta 0:00:01\r\u001b[K     |▋                               | 20kB 25.6MB/s eta 0:00:01\r\u001b[K     |█                               | 30kB 29.9MB/s eta 0:00:01\r\u001b[K     |█▎                              | 40kB 34.2MB/s eta 0:00:01\r\u001b[K     |█▋                              | 51kB 37.2MB/s eta 0:00:01\r\u001b[K     |██                              | 61kB 41.0MB/s eta 0:00:01\r\u001b[K     |██▎                             | 71kB 42.5MB/s eta 0:00:01\r\u001b[K     |██▋                             | 81kB 43.0MB/s eta 0:00:01\r\u001b[K     |███                             | 92kB 44.4MB/s eta 0:00:01\r\u001b[K     |███▎                            | 102kB 46.0MB/s eta 0:00:01\r\u001b[K     |███▋                            | 112kB 46.0MB/s eta 0:00:01\r\u001b[K     |████                            | 122kB 46.0MB/s eta 0:00:01\r\u001b[K     |████▎                           | 133kB 46.0MB/s eta 0:00:01\r\u001b[K     |████▋                           | 143kB 46.0MB/s eta 0:00:01\r\u001b[K     |█████                           | 153kB 46.0MB/s eta 0:00:01\r\u001b[K     |█████▎                          | 163kB 46.0MB/s eta 0:00:01\r\u001b[K     |█████▋                          | 174kB 46.0MB/s eta 0:00:01\r\u001b[K     |██████                          | 184kB 46.0MB/s eta 0:00:01\r\u001b[K     |██████▎                         | 194kB 46.0MB/s eta 0:00:01\r\u001b[K     |██████▋                         | 204kB 46.0MB/s eta 0:00:01\r\u001b[K     |███████                         | 215kB 46.0MB/s eta 0:00:01\r\u001b[K     |███████▎                        | 225kB 46.0MB/s eta 0:00:01\r\u001b[K     |███████▋                        | 235kB 46.0MB/s eta 0:00:01\r\u001b[K     |████████                        | 245kB 46.0MB/s eta 0:00:01\r\u001b[K     |████████▎                       | 256kB 46.0MB/s eta 0:00:01\r\u001b[K     |████████▋                       | 266kB 46.0MB/s eta 0:00:01\r\u001b[K     |█████████                       | 276kB 46.0MB/s eta 0:00:01\r\u001b[K     |█████████▎                      | 286kB 46.0MB/s eta 0:00:01\r\u001b[K     |█████████▋                      | 296kB 46.0MB/s eta 0:00:01\r\u001b[K     |██████████                      | 307kB 46.0MB/s eta 0:00:01\r\u001b[K     |██████████▎                     | 317kB 46.0MB/s eta 0:00:01\r\u001b[K     |██████████▋                     | 327kB 46.0MB/s eta 0:00:01\r\u001b[K     |███████████                     | 337kB 46.0MB/s eta 0:00:01\r\u001b[K     |███████████▎                    | 348kB 46.0MB/s eta 0:00:01\r\u001b[K     |███████████▋                    | 358kB 46.0MB/s eta 0:00:01\r\u001b[K     |████████████                    | 368kB 46.0MB/s eta 0:00:01\r\u001b[K     |████████████▎                   | 378kB 46.0MB/s eta 0:00:01\r\u001b[K     |████████████▋                   | 389kB 46.0MB/s eta 0:00:01\r\u001b[K     |█████████████                   | 399kB 46.0MB/s eta 0:00:01\r\u001b[K     |█████████████▎                  | 409kB 46.0MB/s eta 0:00:01\r\u001b[K     |█████████████▋                  | 419kB 46.0MB/s eta 0:00:01\r\u001b[K     |██████████████                  | 430kB 46.0MB/s eta 0:00:01\r\u001b[K     |██████████████▎                 | 440kB 46.0MB/s eta 0:00:01\r\u001b[K     |██████████████▋                 | 450kB 46.0MB/s eta 0:00:01\r\u001b[K     |███████████████                 | 460kB 46.0MB/s eta 0:00:01\r\u001b[K     |███████████████▎                | 471kB 46.0MB/s eta 0:00:01\r\u001b[K     |███████████████▋                | 481kB 46.0MB/s eta 0:00:01\r\u001b[K     |████████████████                | 491kB 46.0MB/s eta 0:00:01\r\u001b[K     |████████████████▎               | 501kB 46.0MB/s eta 0:00:01\r\u001b[K     |████████████████▋               | 512kB 46.0MB/s eta 0:00:01\r\u001b[K     |█████████████████               | 522kB 46.0MB/s eta 0:00:01\r\u001b[K     |█████████████████▎              | 532kB 46.0MB/s eta 0:00:01\r\u001b[K     |█████████████████▋              | 542kB 46.0MB/s eta 0:00:01\r\u001b[K     |██████████████████              | 552kB 46.0MB/s eta 0:00:01\r\u001b[K     |██████████████████▎             | 563kB 46.0MB/s eta 0:00:01\r\u001b[K     |██████████████████▋             | 573kB 46.0MB/s eta 0:00:01\r\u001b[K     |███████████████████             | 583kB 46.0MB/s eta 0:00:01\r\u001b[K     |███████████████████▎            | 593kB 46.0MB/s eta 0:00:01\r\u001b[K     |███████████████████▋            | 604kB 46.0MB/s eta 0:00:01\r\u001b[K     |████████████████████            | 614kB 46.0MB/s eta 0:00:01\r\u001b[K     |████████████████████▎           | 624kB 46.0MB/s eta 0:00:01\r\u001b[K     |████████████████████▋           | 634kB 46.0MB/s eta 0:00:01\r\u001b[K     |█████████████████████           | 645kB 46.0MB/s eta 0:00:01\r\u001b[K     |█████████████████████▎          | 655kB 46.0MB/s eta 0:00:01\r\u001b[K     |█████████████████████▋          | 665kB 46.0MB/s eta 0:00:01\r\u001b[K     |██████████████████████          | 675kB 46.0MB/s eta 0:00:01\r\u001b[K     |██████████████████████▎         | 686kB 46.0MB/s eta 0:00:01\r\u001b[K     |██████████████████████▋         | 696kB 46.0MB/s eta 0:00:01\r\u001b[K     |███████████████████████         | 706kB 46.0MB/s eta 0:00:01\r\u001b[K     |███████████████████████▎        | 716kB 46.0MB/s eta 0:00:01\r\u001b[K     |███████████████████████▋        | 727kB 46.0MB/s eta 0:00:01\r\u001b[K     |████████████████████████        | 737kB 46.0MB/s eta 0:00:01\r\u001b[K     |████████████████████████▎       | 747kB 46.0MB/s eta 0:00:01\r\u001b[K     |████████████████████████▋       | 757kB 46.0MB/s eta 0:00:01\r\u001b[K     |████████████████████████▉       | 768kB 46.0MB/s eta 0:00:01\r\u001b[K     |█████████████████████████▏      | 778kB 46.0MB/s eta 0:00:01\r\u001b[K     |█████████████████████████▌      | 788kB 46.0MB/s eta 0:00:01\r\u001b[K     |█████████████████████████▉      | 798kB 46.0MB/s eta 0:00:01\r\u001b[K     |██████████████████████████▏     | 808kB 46.0MB/s eta 0:00:01\r\u001b[K     |██████████████████████████▌     | 819kB 46.0MB/s eta 0:00:01\r\u001b[K     |██████████████████████████▉     | 829kB 46.0MB/s eta 0:00:01\r\u001b[K     |███████████████████████████▏    | 839kB 46.0MB/s eta 0:00:01\r\u001b[K     |███████████████████████████▌    | 849kB 46.0MB/s eta 0:00:01\r\u001b[K     |███████████████████████████▉    | 860kB 46.0MB/s eta 0:00:01\r\u001b[K     |████████████████████████████▏   | 870kB 46.0MB/s eta 0:00:01\r\u001b[K     |████████████████████████████▌   | 880kB 46.0MB/s eta 0:00:01\r\u001b[K     |████████████████████████████▉   | 890kB 46.0MB/s eta 0:00:01\r\u001b[K     |█████████████████████████████▏  | 901kB 46.0MB/s eta 0:00:01\r\u001b[K     |█████████████████████████████▌  | 911kB 46.0MB/s eta 0:00:01\r\u001b[K     |█████████████████████████████▉  | 921kB 46.0MB/s eta 0:00:01\r\u001b[K     |██████████████████████████████▏ | 931kB 46.0MB/s eta 0:00:01\r\u001b[K     |██████████████████████████████▌ | 942kB 46.0MB/s eta 0:00:01\r\u001b[K     |██████████████████████████████▉ | 952kB 46.0MB/s eta 0:00:01\r\u001b[K     |███████████████████████████████▏| 962kB 46.0MB/s eta 0:00:01\r\u001b[K     |███████████████████████████████▌| 972kB 46.0MB/s eta 0:00:01\r\u001b[K     |███████████████████████████████▉| 983kB 46.0MB/s eta 0:00:01\r\u001b[K     |████████████████████████████████| 993kB 46.0MB/s \n",
            "\u001b[?25h  Building wheel for PyDrive (setup.py) ... \u001b[?25l\u001b[?25hdone\n"
          ],
          "name": "stdout"
        }
      ]
    },
    {
      "cell_type": "markdown",
      "metadata": {
        "id": "cF_5W_5rE3X6",
        "colab_type": "text"
      },
      "source": [
        "Nos autenticamos"
      ]
    },
    {
      "cell_type": "code",
      "metadata": {
        "id": "KiU3s2gKALvq",
        "colab_type": "code",
        "colab": {}
      },
      "source": [
        "auth.authenticate_user()\n",
        "gauth = GoogleAuth()\n",
        "gauth.credentials = GoogleCredentials.get_application_default()\n",
        "drive = GoogleDrive(gauth)"
      ],
      "execution_count": null,
      "outputs": []
    },
    {
      "cell_type": "markdown",
      "metadata": {
        "id": "5yUUmDgcE7Mo",
        "colab_type": "text"
      },
      "source": [
        "Subir un archivo al Drive"
      ]
    },
    {
      "cell_type": "code",
      "metadata": {
        "id": "TPkzJMQVAOyJ",
        "colab_type": "code",
        "colab": {
          "base_uri": "https://localhost:8080/",
          "height": 34
        },
        "outputId": "9b184425-e630-4f5a-ed53-331d38246abe"
      },
      "source": [
        "uploaded = drive.CreateFile({'title': 'Sample upload.txt'})\n",
        "uploaded.SetContentString('Sample upload file content')\n",
        "uploaded.Upload()\n",
        "print('Uploaded file with ID {}'.format(uploaded.get('id')))"
      ],
      "execution_count": null,
      "outputs": [
        {
          "output_type": "stream",
          "text": [
            "Uploaded file with ID 1chgUFynYuS1sD4AsNbrU9R3JXTYE2nLM\n"
          ],
          "name": "stdout"
        }
      ]
    },
    {
      "cell_type": "markdown",
      "metadata": {
        "id": "JEt98VsOFBAK",
        "colab_type": "text"
      },
      "source": [
        "Descargar un archivo del Drive"
      ]
    },
    {
      "cell_type": "code",
      "metadata": {
        "id": "MbI6V0SxARFB",
        "colab_type": "code",
        "colab": {
          "base_uri": "https://localhost:8080/",
          "height": 34
        },
        "outputId": "73337121-43e4-4417-db7d-7d3f2e172384"
      },
      "source": [
        "i='1kKIxeYVO6Ixe4TNxrmwDgSvVrBMHel37'\n",
        "downloaded = drive.CreateFile({'id': i})\n",
        "downloaded.GetContentFile('Sample upload.txt') \n",
        "print('Downloaded content \"{}\"'.format(downloaded.GetContentString()))"
      ],
      "execution_count": null,
      "outputs": [
        {
          "output_type": "stream",
          "text": [
            "Downloaded content \"Sample upload file content\"\n"
          ],
          "name": "stdout"
        }
      ]
    },
    {
      "cell_type": "code",
      "metadata": {
        "id": "WyKkP9xYATfr",
        "colab_type": "code",
        "colab": {}
      },
      "source": [
        "#la \"id\" es lo que va después del = : https://drive.google.com/open?id=1kKIxeYVO6Ixe4TNxrmwDgSvVrBMHel37"
      ],
      "execution_count": null,
      "outputs": []
    },
    {
      "cell_type": "markdown",
      "metadata": {
        "id": "LHzmX7lUFdzN",
        "colab_type": "text"
      },
      "source": [
        "<p><a name=\"git\"></a></p>\n",
        "\n",
        "### 2.10.7 Github"
      ]
    },
    {
      "cell_type": "code",
      "metadata": {
        "id": "4vB7YMcLFhm7",
        "colab_type": "code",
        "colab": {
          "base_uri": "https://localhost:8080/",
          "height": 51
        },
        "outputId": "39ef6f10-de14-49d4-8ac1-2bc6ed81cb01"
      },
      "source": [
        "!git clone https://github.com/username/repositorio"
      ],
      "execution_count": null,
      "outputs": [
        {
          "output_type": "stream",
          "text": [
            "Cloning into 'repositorio'...\n",
            "fatal: could not read Username for 'https://github.com': No such device or address\n"
          ],
          "name": "stdout"
        }
      ]
    }
  ]
}